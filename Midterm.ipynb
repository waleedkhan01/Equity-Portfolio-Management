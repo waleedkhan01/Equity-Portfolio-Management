{
 "cells": [
  {
   "cell_type": "markdown",
   "metadata": {},
   "source": [
    "# Midterm Project\n",
    "## Waleed Khan"
   ]
  },
  {
   "cell_type": "markdown",
   "metadata": {},
   "source": [
    "### You start to manage 5 million dollars fund on Jan 02, 2018\n",
    "\n",
    "You have a strategy to manage the fund.\n",
    "\n",
    "1. On Jan 02 2018, you split the \\\\$5m into 5 \\\\$1m, and use them to buy 5 stocks from the 10 stocks. For example, IBM close price was \\\\$154.25. With \\\\$1m, you can buy max 6482 shares with cost \\\\$999848.5 with \\\\$151.5‬ cash left. You decided to spend \\\\$1m on each of ['IBM', 'MSFT', 'GOOG', 'AAPL', 'AMZN'] respectively and keep the rest cash into a zero-interest cash account. On Jan 02 2018, your mark to market value (MTM) is \\$5m if combining all stocks value and cash. Your holdings of stocks and cach account is your portfolio."
   ]
  },
  {
   "cell_type": "code",
   "execution_count": 126,
   "metadata": {},
   "outputs": [],
   "source": [
    "#Read Data\n",
    "ibmData=read.csv(\"ibm.csv\")\n",
    "msftData=read.csv(\"msft.csv\")\n",
    "googData=read.csv(\"goog.csv\")\n",
    "aaplData=read.csv(\"aapl.csv\")\n",
    "amznData=read.csv(\"amzn.csv\")\n",
    "# head(ibmData)\n",
    "# head(msftData)\n",
    "# head(googData)\n",
    "# head(aaplData)\n",
    "# head(amznData)"
   ]
  },
  {
   "cell_type": "code",
   "execution_count": 156,
   "metadata": {},
   "outputs": [
    {
     "data": {
      "text/html": [
       "6482"
      ],
      "text/latex": [
       "6482"
      ],
      "text/markdown": [
       "6482"
      ],
      "text/plain": [
       "[1] 6482"
      ]
     },
     "metadata": {},
     "output_type": "display_data"
    },
    {
     "data": {
      "text/html": [
       "151.5"
      ],
      "text/latex": [
       "151.5"
      ],
      "text/markdown": [
       "151.5"
      ],
      "text/plain": [
       "[1] 151.5"
      ]
     },
     "metadata": {},
     "output_type": "display_data"
    }
   ],
   "source": [
    "# x = ibmData[1,] #get first date (Jan 02 2018)\n",
    "# x = ibmData[1,1] \n",
    "# toString(x)\n",
    "# ibmData[1,]\n",
    "# z = ibmData[ibmData['Date']=='2018-01-02']\n",
    "# z[1]\n",
    "ibmTrimmed = ibmData[,c('Date','Close','Adj.Close')]\n",
    "ibmClose = ibmTrimmed[1,]\n",
    "ibmClose = ibmClose[,'Close']\n",
    "# ibmClose\n",
    "remaining_ibm_cash = 1000000 %% ibmClose\n",
    "total_ibm_shares = floor(1000000 / ibmClose)\n",
    "total_ibm_shares\n",
    "remaining_ibm_cash"
   ]
  },
  {
   "cell_type": "code",
   "execution_count": 157,
   "metadata": {},
   "outputs": [
    {
     "data": {
      "text/html": [
       "11634"
      ],
      "text/latex": [
       "11634"
      ],
      "text/markdown": [
       "11634"
      ],
      "text/plain": [
       "[1] 11634"
      ]
     },
     "metadata": {},
     "output_type": "display_data"
    },
    {
     "data": {
      "text/html": [
       "57.7349020000547"
      ],
      "text/latex": [
       "57.7349020000547"
      ],
      "text/markdown": [
       "57.7349020000547"
      ],
      "text/plain": [
       "[1] 57.7349"
      ]
     },
     "metadata": {},
     "output_type": "display_data"
    }
   ],
   "source": [
    "msftTrimmed = msftData[,c('Date','Close','Adj.Close')]\n",
    "msftClose = msftTrimmed[1,]\n",
    "msftClose = msftClose[,'Close']\n",
    "# msftClose\n",
    "remaining_msft_cash = 1000000 %% msftClose\n",
    "total_msft_shares = floor(1000000 / msftClose)\n",
    "total_msft_shares\n",
    "remaining_msft_cash"
   ]
  },
  {
   "cell_type": "code",
   "execution_count": 159,
   "metadata": {},
   "outputs": [
    {
     "data": {
      "text/html": [
       "938"
      ],
      "text/latex": [
       "938"
      ],
      "text/markdown": [
       "938"
      ],
      "text/plain": [
       "[1] 938"
      ]
     },
     "metadata": {},
     "output_type": "display_data"
    },
    {
     "data": {
      "text/html": [
       "1030"
      ],
      "text/latex": [
       "1030"
      ],
      "text/markdown": [
       "1030"
      ],
      "text/plain": [
       "[1] 1030"
      ]
     },
     "metadata": {},
     "output_type": "display_data"
    }
   ],
   "source": [
    "googTrimmed = googData[,c('Date','Close','Adj.Close')]\n",
    "googClose = googTrimmed[1,]\n",
    "googClose = googClose[,'Close']\n",
    "# googClose\n",
    "remaining_goog_cash = 1000000 %% googClose\n",
    "total_goog_shares = floor(1000000 / googClose)\n",
    "total_goog_shares\n",
    "remaining_goog_cash"
   ]
  },
  {
   "cell_type": "code",
   "execution_count": 160,
   "metadata": {},
   "outputs": [
    {
     "data": {
      "text/html": [
       "5805"
      ],
      "text/latex": [
       "5805"
      ],
      "text/markdown": [
       "5805"
      ],
      "text/plain": [
       "[1] 5805"
      ]
     },
     "metadata": {},
     "output_type": "display_data"
    },
    {
     "data": {
      "text/html": [
       "30.7290250000078"
      ],
      "text/latex": [
       "30.7290250000078"
      ],
      "text/markdown": [
       "30.7290250000078"
      ],
      "text/plain": [
       "[1] 30.72903"
      ]
     },
     "metadata": {},
     "output_type": "display_data"
    }
   ],
   "source": [
    "aaplTrimmed = aaplData[,c('Date','Close','Adj.Close')]\n",
    "aaplClose = aaplTrimmed[1,]\n",
    "aaplClose = aaplClose[,'Close']\n",
    "# aaplClose\n",
    "remaining_aapl_cash = 1000000 %% aaplClose\n",
    "total_aapl_shares = floor(1000000 / aaplClose)\n",
    "total_aapl_shares\n",
    "remaining_aapl_cash"
   ]
  },
  {
   "cell_type": "code",
   "execution_count": 161,
   "metadata": {},
   "outputs": [
    {
     "data": {
      "text/html": [
       "841"
      ],
      "text/latex": [
       "841"
      ],
      "text/markdown": [
       "841"
      ],
      "text/plain": [
       "[1] 841"
      ]
     },
     "metadata": {},
     "output_type": "display_data"
    },
    {
     "data": {
      "text/html": [
       "42.5815900000744"
      ],
      "text/latex": [
       "42.5815900000744"
      ],
      "text/markdown": [
       "42.5815900000744"
      ],
      "text/plain": [
       "[1] 42.58159"
      ]
     },
     "metadata": {},
     "output_type": "display_data"
    }
   ],
   "source": [
    "amznTrimmed = amznData[,c('Date','Close','Adj.Close')]\n",
    "amznClose = amznTrimmed[1,]\n",
    "amznClose = amznClose[,'Close']\n",
    "# amznClose\n",
    "remaining_amzn_cash = 1000000 %% amznClose\n",
    "total_amzn_shares = floor(1000000 / amznClose)\n",
    "total_amzn_shares\n",
    "remaining_amzn_cash"
   ]
  }
 ],
 "metadata": {
  "kernelspec": {
   "display_name": "R",
   "language": "R",
   "name": "ir"
  },
  "language_info": {
   "codemirror_mode": "r",
   "file_extension": ".r",
   "mimetype": "text/x-r-source",
   "name": "R",
   "pygments_lexer": "r",
   "version": "3.6.1"
  }
 },
 "nbformat": 4,
 "nbformat_minor": 4
}
