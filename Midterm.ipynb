{
 "cells": [
  {
   "cell_type": "markdown",
   "metadata": {},
   "source": [
    "# Midterm Project\n",
    "## Waleed Khan"
   ]
  },
  {
   "cell_type": "markdown",
   "metadata": {},
   "source": [
    "### You start to manage 5 million dollars fund on Jan 02, 2018\n",
    "\n",
    "You have a strategy to manage the fund.\n",
    "\n",
    "1. On Jan 02 2018, you split the \\\\$5m into 5 \\\\$1m, and use them to buy 5 stocks from the 10 stocks. For example, IBM close price was \\\\$154.25. With \\\\$1m, you can buy max 6482 shares with cost \\\\$999848.5 with \\\\$151.5‬ cash left. You decided to spend \\\\$1m on each of ['IBM', 'MSFT', 'GOOG', 'AAPL', 'AMZN'] respectively and keep the rest cash into a zero-interest cash account. On Jan 02 2018, your mark to market value (MTM) is \\$5m if combining all stocks value and cash. Your holdings of stocks and cach account is your portfolio."
   ]
  },
  {
   "cell_type": "code",
   "execution_count": 59,
   "metadata": {},
   "outputs": [],
   "source": [
    "#Read Data\n",
    "ibmData=read.csv(\"ibm.csv\")\n",
    "msftData=read.csv(\"msft.csv\")\n",
    "googData=read.csv(\"goog.csv\")\n",
    "aaplData=read.csv(\"aapl.csv\")\n",
    "amznData=read.csv(\"amzn.csv\")\n",
    "fbData=read.csv(\"fb.csv\")\n",
    "nflxData=read.csv(\"nflx.csv\")\n",
    "tslaData=read.csv(\"tsla.csv\")\n",
    "orclData=read.csv(\"orcl.csv\")\n",
    "sapData=read.csv(\"sap.csv\")\n",
    "# head(ibmData)\n",
    "# head(msftData)\n",
    "# head(googData)\n",
    "# head(aaplData)\n",
    "# head(amznData)"
   ]
  },
  {
   "cell_type": "markdown",
   "metadata": {},
   "source": [
    "### ibm"
   ]
  },
  {
   "cell_type": "code",
   "execution_count": 83,
   "metadata": {},
   "outputs": [
    {
     "data": {
      "text/html": [
       "6482"
      ],
      "text/latex": [
       "6482"
      ],
      "text/markdown": [
       "6482"
      ],
      "text/plain": [
       "[1] 6482"
      ]
     },
     "metadata": {},
     "output_type": "display_data"
    },
    {
     "data": {
      "text/html": [
       "151.5"
      ],
      "text/latex": [
       "151.5"
      ],
      "text/markdown": [
       "151.5"
      ],
      "text/plain": [
       "[1] 151.5"
      ]
     },
     "metadata": {},
     "output_type": "display_data"
    }
   ],
   "source": [
    "# x = ibmData[1,] #get first date (Jan 02 2018)\n",
    "# x = ibmData[1,1] \n",
    "# toString(x)\n",
    "# ibmData[1,]\n",
    "# z = ibmData[ibmData['Date']=='2018-01-02']\n",
    "# z[1]\n",
    "ibmTrimmed = ibmData[,c('Close','Adj.Close')]\n",
    "names(ibmTrimmed)[1] = \"ibm_Close\"\n",
    "names(ibmTrimmed)[2] = \"ibm_Adj.Close\"\n",
    "# head(ibmTrimmed)\n",
    "ibmClose = ibmTrimmed[1,]\n",
    "# ibmClose\n",
    "ibmClose = ibmClose[,'ibm_Close']\n",
    "# ibmClose\n",
    "remaining_ibm_cash = 1000000 %% ibmClose\n",
    "total_ibm_shares = floor(1000000 / ibmClose)\n",
    "total_ibm_shares\n",
    "remaining_ibm_cash"
   ]
  },
  {
   "cell_type": "markdown",
   "metadata": {},
   "source": [
    "### msft"
   ]
  },
  {
   "cell_type": "code",
   "execution_count": 86,
   "metadata": {},
   "outputs": [
    {
     "data": {
      "text/html": [
       "11634"
      ],
      "text/latex": [
       "11634"
      ],
      "text/markdown": [
       "11634"
      ],
      "text/plain": [
       "[1] 11634"
      ]
     },
     "metadata": {},
     "output_type": "display_data"
    },
    {
     "data": {
      "text/html": [
       "57.7349020000547"
      ],
      "text/latex": [
       "57.7349020000547"
      ],
      "text/markdown": [
       "57.7349020000547"
      ],
      "text/plain": [
       "[1] 57.7349"
      ]
     },
     "metadata": {},
     "output_type": "display_data"
    }
   ],
   "source": [
    "msftTrimmed = msftData[,c('Close','Adj.Close')]\n",
    "names(msftTrimmed)[1] = \"msft_Close\"\n",
    "names(msftTrimmed)[2] = \"msft_Adj.Close\"\n",
    "msftClose = msftTrimmed[1,]\n",
    "msftClose = msftClose[,'msft_Close']\n",
    "# msftClose\n",
    "remaining_msft_cash = 1000000 %% msftClose\n",
    "total_msft_shares = floor(1000000 / msftClose)\n",
    "total_msft_shares\n",
    "remaining_msft_cash"
   ]
  },
  {
   "cell_type": "markdown",
   "metadata": {},
   "source": [
    "### goog"
   ]
  },
  {
   "cell_type": "code",
   "execution_count": 87,
   "metadata": {},
   "outputs": [
    {
     "data": {
      "text/html": [
       "938"
      ],
      "text/latex": [
       "938"
      ],
      "text/markdown": [
       "938"
      ],
      "text/plain": [
       "[1] 938"
      ]
     },
     "metadata": {},
     "output_type": "display_data"
    },
    {
     "data": {
      "text/html": [
       "1030"
      ],
      "text/latex": [
       "1030"
      ],
      "text/markdown": [
       "1030"
      ],
      "text/plain": [
       "[1] 1030"
      ]
     },
     "metadata": {},
     "output_type": "display_data"
    }
   ],
   "source": [
    "googTrimmed = googData[,c('Close','Adj.Close')]\n",
    "names(googTrimmed)[1] = \"goog_Close\"\n",
    "names(googTrimmed)[2] = \"goog_Adj.Close\"\n",
    "googClose = googTrimmed[1,]\n",
    "googClose = googClose[,'goog_Close']\n",
    "# googClose\n",
    "remaining_goog_cash = 1000000 %% googClose\n",
    "total_goog_shares = floor(1000000 / googClose)\n",
    "total_goog_shares\n",
    "remaining_goog_cash"
   ]
  },
  {
   "cell_type": "markdown",
   "metadata": {},
   "source": [
    "### aapl"
   ]
  },
  {
   "cell_type": "code",
   "execution_count": 88,
   "metadata": {},
   "outputs": [
    {
     "data": {
      "text/html": [
       "5805"
      ],
      "text/latex": [
       "5805"
      ],
      "text/markdown": [
       "5805"
      ],
      "text/plain": [
       "[1] 5805"
      ]
     },
     "metadata": {},
     "output_type": "display_data"
    },
    {
     "data": {
      "text/html": [
       "30.7290250000078"
      ],
      "text/latex": [
       "30.7290250000078"
      ],
      "text/markdown": [
       "30.7290250000078"
      ],
      "text/plain": [
       "[1] 30.72903"
      ]
     },
     "metadata": {},
     "output_type": "display_data"
    }
   ],
   "source": [
    "aaplTrimmed = aaplData[,c('Close','Adj.Close')]\n",
    "names(aaplTrimmed)[1] = \"aapl_Close\"\n",
    "names(aaplTrimmed)[2] = \"aapl_Adj.Close\"\n",
    "aaplClose = aaplTrimmed[1,]\n",
    "aaplClose = aaplClose[,'aapl_Close']\n",
    "# aaplClose\n",
    "remaining_aapl_cash = 1000000 %% aaplClose\n",
    "total_aapl_shares = floor(1000000 / aaplClose)\n",
    "total_aapl_shares\n",
    "remaining_aapl_cash"
   ]
  },
  {
   "cell_type": "markdown",
   "metadata": {},
   "source": [
    "### amzn"
   ]
  },
  {
   "cell_type": "code",
   "execution_count": 89,
   "metadata": {
    "scrolled": true
   },
   "outputs": [
    {
     "data": {
      "text/html": [
       "841"
      ],
      "text/latex": [
       "841"
      ],
      "text/markdown": [
       "841"
      ],
      "text/plain": [
       "[1] 841"
      ]
     },
     "metadata": {},
     "output_type": "display_data"
    },
    {
     "data": {
      "text/html": [
       "42.5815900000744"
      ],
      "text/latex": [
       "42.5815900000744"
      ],
      "text/markdown": [
       "42.5815900000744"
      ],
      "text/plain": [
       "[1] 42.58159"
      ]
     },
     "metadata": {},
     "output_type": "display_data"
    }
   ],
   "source": [
    "amznTrimmed = amznData[,c('Close','Adj.Close')]\n",
    "names(amznTrimmed)[1] = \"amzn_Close\"\n",
    "names(amznTrimmed)[2] = \"amzn_Adj.Close\"\n",
    "amznClose = amznTrimmed[1,]\n",
    "amznClose = amznClose[,'amzn_Close']\n",
    "# amznClose\n",
    "remaining_amzn_cash = 1000000 %% amznClose\n",
    "total_amzn_shares = floor(1000000 / amznClose)\n",
    "total_amzn_shares\n",
    "remaining_amzn_cash"
   ]
  },
  {
   "cell_type": "markdown",
   "metadata": {},
   "source": [
    "### fb"
   ]
  },
  {
   "cell_type": "code",
   "execution_count": 90,
   "metadata": {},
   "outputs": [
    {
     "data": {
      "text/html": [
       "5512"
      ],
      "text/latex": [
       "5512"
      ],
      "text/markdown": [
       "5512"
      ],
      "text/plain": [
       "[1] 5512"
      ]
     },
     "metadata": {},
     "output_type": "display_data"
    },
    {
     "data": {
      "text/html": [
       "12.9710240000859"
      ],
      "text/latex": [
       "12.9710240000859"
      ],
      "text/markdown": [
       "12.9710240000859"
      ],
      "text/plain": [
       "[1] 12.97102"
      ]
     },
     "metadata": {},
     "output_type": "display_data"
    }
   ],
   "source": [
    "fbTrimmed = fbData[,c('Close','Adj.Close')]\n",
    "names(fbTrimmed)[1] = \"fb_Close\"\n",
    "names(fbTrimmed)[2] = \"fb_Adj.Close\"\n",
    "fbClose = fbTrimmed[1,]\n",
    "fbClose = fbClose[,'fb_Close']\n",
    "remaining_fb_cash = 1000000 %% fbClose\n",
    "total_fb_shares = floor(1000000 / fbClose)\n",
    "total_fb_shares\n",
    "remaining_fb_cash"
   ]
  },
  {
   "cell_type": "markdown",
   "metadata": {},
   "source": [
    "### nflx"
   ]
  },
  {
   "cell_type": "code",
   "execution_count": 94,
   "metadata": {},
   "outputs": [
    {
     "data": {
      "text/html": [
       "4973"
      ],
      "text/latex": [
       "4973"
      ],
      "text/markdown": [
       "4973"
      ],
      "text/plain": [
       "[1] 4973"
      ]
     },
     "metadata": {},
     "output_type": "display_data"
    },
    {
     "data": {
      "text/html": [
       "78.8551890000235"
      ],
      "text/latex": [
       "78.8551890000235"
      ],
      "text/markdown": [
       "78.8551890000235"
      ],
      "text/plain": [
       "[1] 78.85519"
      ]
     },
     "metadata": {},
     "output_type": "display_data"
    }
   ],
   "source": [
    "nflxTrimmed = nflxData[,c('Close','Adj.Close')]\n",
    "names(nflxTrimmed)[1] = \"nflx_Close\"\n",
    "names(nflxTrimmed)[2] = \"nflx_Adj.Close\"\n",
    "nflxClose = nflxTrimmed[1,]\n",
    "nflxClose = nflxClose[,'nflx_Close']\n",
    "# amznClose\n",
    "remaining_nflx_cash = 1000000 %% nflxClose\n",
    "total_nflx_shares = floor(1000000 / nflxClose)\n",
    "total_nflx_shares\n",
    "remaining_nflx_cash"
   ]
  },
  {
   "cell_type": "markdown",
   "metadata": {},
   "source": [
    "### tsla"
   ]
  },
  {
   "cell_type": "code",
   "execution_count": 95,
   "metadata": {},
   "outputs": [
    {
     "data": {
      "text/html": [
       "3119"
      ],
      "text/latex": [
       "3119"
      ],
      "text/markdown": [
       "3119"
      ],
      "text/plain": [
       "[1] 3119"
      ]
     },
     "metadata": {},
     "output_type": "display_data"
    },
    {
     "data": {
      "text/html": [
       "266.933119000052"
      ],
      "text/latex": [
       "266.933119000052"
      ],
      "text/markdown": [
       "266.933119000052"
      ],
      "text/plain": [
       "[1] 266.9331"
      ]
     },
     "metadata": {},
     "output_type": "display_data"
    }
   ],
   "source": [
    "tslaTrimmed = tslaData[,c('Close','Adj.Close')]\n",
    "names(tslaTrimmed)[1] = \"tsla_Close\"\n",
    "names(tslaTrimmed)[2] = \"tsla_Adj.Close\"\n",
    "tslaClose = tslaTrimmed[1,]\n",
    "tslaClose = tslaClose[,'tsla_Close']\n",
    "remaining_tsla_cash = 1000000 %% tslaClose\n",
    "total_tsla_shares = floor(1000000 / tslaClose)\n",
    "total_tsla_shares\n",
    "remaining_tsla_cash"
   ]
  },
  {
   "cell_type": "markdown",
   "metadata": {},
   "source": [
    "### orcl"
   ]
  },
  {
   "cell_type": "code",
   "execution_count": 96,
   "metadata": {},
   "outputs": [
    {
     "data": {
      "text/html": [
       "21445"
      ],
      "text/latex": [
       "21445"
      ],
      "text/markdown": [
       "21445"
      ],
      "text/plain": [
       "[1] 21445"
      ]
     },
     "metadata": {},
     "output_type": "display_data"
    },
    {
     "data": {
      "text/html": [
       "19.6285549999448"
      ],
      "text/latex": [
       "19.6285549999448"
      ],
      "text/markdown": [
       "19.6285549999448"
      ],
      "text/plain": [
       "[1] 19.62855"
      ]
     },
     "metadata": {},
     "output_type": "display_data"
    }
   ],
   "source": [
    "orclTrimmed = orclData[,c('Close','Adj.Close')]\n",
    "names(orclTrimmed)[1] = \"orcl_Close\"\n",
    "names(orclTrimmed)[2] = \"orcl_Adj.Close\"\n",
    "orclClose = orclTrimmed[1,]\n",
    "orclClose = orclClose[,'orcl_Close']\n",
    "remaining_orcl_cash = 1000000 %% orclClose\n",
    "total_orcl_shares = floor(1000000 / orclClose)\n",
    "total_orcl_shares\n",
    "remaining_orcl_cash"
   ]
  },
  {
   "cell_type": "markdown",
   "metadata": {},
   "source": [
    "### sap"
   ]
  },
  {
   "cell_type": "code",
   "execution_count": 97,
   "metadata": {},
   "outputs": [
    {
     "data": {
      "text/html": [
       "8897"
      ],
      "text/latex": [
       "8897"
      ],
      "text/markdown": [
       "8897"
      ],
      "text/plain": [
       "[1] 8897"
      ]
     },
     "metadata": {},
     "output_type": "display_data"
    },
    {
     "data": {
      "text/html": [
       "66.1788969999179"
      ],
      "text/latex": [
       "66.1788969999179"
      ],
      "text/markdown": [
       "66.1788969999179"
      ],
      "text/plain": [
       "[1] 66.1789"
      ]
     },
     "metadata": {},
     "output_type": "display_data"
    }
   ],
   "source": [
    "sapTrimmed = sapData[,c('Close','Adj.Close')]\n",
    "names(sapTrimmed)[1] = \"sap_Close\"\n",
    "names(sapTrimmed)[2] = \"sap_Adj.Close\"\n",
    "sapClose = sapTrimmed[1,]\n",
    "sapClose = sapClose[,'sap_Close']\n",
    "remaining_sap_cash = 1000000 %% sapClose\n",
    "total_sap_shares = floor(1000000 / sapClose)\n",
    "total_sap_shares\n",
    "remaining_sap_cash"
   ]
  },
  {
   "cell_type": "markdown",
   "metadata": {},
   "source": [
    "## Combining Data Frames"
   ]
  },
  {
   "cell_type": "code",
   "execution_count": 99,
   "metadata": {},
   "outputs": [
    {
     "data": {
      "text/html": [
       "<table>\n",
       "<thead><tr><th scope=col>Date</th><th scope=col>ibm_Close</th><th scope=col>ibm_Adj.Close</th><th scope=col>msft_Close</th><th scope=col>msft_Adj.Close</th><th scope=col>goog_Close</th><th scope=col>goog_Adj.Close</th><th scope=col>aapl_Close</th><th scope=col>aapl_Adj.Close</th><th scope=col>amzn_Close</th><th scope=col>...</th><th scope=col>fb_Close</th><th scope=col>fb_Adj.Close</th><th scope=col>nflx_Close</th><th scope=col>nflx_Adj.Close</th><th scope=col>tsla_Close</th><th scope=col>tsla_Adj.Close</th><th scope=col>orcl_Close</th><th scope=col>orcl_Adj.Close</th><th scope=col>sap_Close</th><th scope=col>sap_Adj.Close</th></tr></thead>\n",
       "<tbody>\n",
       "\t<tr><td>2018-01-02</td><td>154.25    </td><td>137.5211  </td><td>85.95     </td><td>82.79900  </td><td>1065.00   </td><td>1065.00   </td><td>172.26    </td><td>166.3537  </td><td>1189.01   </td><td>...       </td><td>181.42    </td><td>181.42    </td><td>201.07    </td><td>201.07    </td><td>320.53    </td><td>320.53    </td><td>46.63     </td><td>44.71024  </td><td>112.39    </td><td>107.63362 </td></tr>\n",
       "\t<tr><td>2018-01-03</td><td>158.49    </td><td>141.3013  </td><td>86.35     </td><td>83.18433  </td><td>1082.48   </td><td>1082.48   </td><td>172.23    </td><td>166.3247  </td><td>1204.20   </td><td>...       </td><td>184.67    </td><td>184.67    </td><td>205.05    </td><td>205.05    </td><td>317.25    </td><td>317.25    </td><td>47.71     </td><td>45.74577  </td><td>113.31    </td><td>108.51469 </td></tr>\n",
       "\t<tr><td>2018-01-04</td><td>161.70    </td><td>144.1631  </td><td>87.11     </td><td>83.91647  </td><td>1086.40   </td><td>1086.40   </td><td>173.03    </td><td>167.0973  </td><td>1209.59   </td><td>...       </td><td>184.33    </td><td>184.33    </td><td>205.63    </td><td>205.63    </td><td>314.62    </td><td>314.62    </td><td>48.18     </td><td>46.19643  </td><td>115.05    </td><td>110.18106 </td></tr>\n",
       "\t<tr><td>2018-01-05</td><td>162.49    </td><td>144.8675  </td><td>88.19     </td><td>84.95689  </td><td>1102.23   </td><td>1102.23   </td><td>175.00    </td><td>168.9997  </td><td>1229.14   </td><td>...       </td><td>186.85    </td><td>186.85    </td><td>209.99    </td><td>209.99    </td><td>316.58    </td><td>316.58    </td><td>48.47     </td><td>46.47449  </td><td>116.33    </td><td>111.40688 </td></tr>\n",
       "\t<tr><td>2018-01-08</td><td>163.47    </td><td>145.7412  </td><td>88.28     </td><td>85.04357  </td><td>1106.94   </td><td>1106.94   </td><td>174.35    </td><td>168.3720  </td><td>1246.87   </td><td>...       </td><td>188.28    </td><td>188.28    </td><td>212.05    </td><td>212.05    </td><td>336.41    </td><td>336.41    </td><td>48.98     </td><td>46.96349  </td><td>114.80    </td><td>109.94164 </td></tr>\n",
       "\t<tr><td>2018-01-09</td><td>163.83    </td><td>146.0621  </td><td>88.22     </td><td>84.98579  </td><td>1106.26   </td><td>1106.26   </td><td>174.33    </td><td>168.3527  </td><td>1252.70   </td><td>...       </td><td>187.87    </td><td>187.87    </td><td>209.31    </td><td>209.31    </td><td>333.69    </td><td>333.69    </td><td>49.06     </td><td>47.22339  </td><td>114.16    </td><td>109.32872 </td></tr>\n",
       "\t<tr><td>2018-01-10</td><td>164.18    </td><td>146.3742  </td><td>87.82     </td><td>84.60045  </td><td>1102.61   </td><td>1102.61   </td><td>174.29    </td><td>168.3141  </td><td>1254.33   </td><td>...       </td><td>187.84    </td><td>187.84    </td><td>212.52    </td><td>212.52    </td><td>334.80    </td><td>334.80    </td><td>48.80     </td><td>46.97311  </td><td>112.87    </td><td>108.09332 </td></tr>\n",
       "\t<tr><td>2018-01-11</td><td>164.20    </td><td>146.3920  </td><td>88.08     </td><td>84.85091  </td><td>1105.52   </td><td>1105.52   </td><td>175.28    </td><td>169.2702  </td><td>1276.68   </td><td>...       </td><td>187.77    </td><td>187.77    </td><td>217.24    </td><td>217.24    </td><td>337.95    </td><td>337.95    </td><td>48.95     </td><td>47.11750  </td><td>109.64    </td><td>105.00001 </td></tr>\n",
       "\t<tr><td>2018-01-12</td><td>163.14    </td><td>145.4470  </td><td>89.60     </td><td>86.31518  </td><td>1122.26   </td><td>1122.26   </td><td>177.09    </td><td>171.0181  </td><td>1305.20   </td><td>...       </td><td>179.37    </td><td>179.37    </td><td>221.23    </td><td>221.23    </td><td>336.22    </td><td>336.22    </td><td>49.51     </td><td>47.65653  </td><td>110.13    </td><td>105.46926 </td></tr>\n",
       "\t<tr><td>2018-01-16</td><td>163.85    </td><td>146.0800  </td><td>88.35     </td><td>85.11101  </td><td>1121.76   </td><td>1121.76   </td><td>176.19    </td><td>170.1490  </td><td>1304.86   </td><td>...       </td><td>178.39    </td><td>178.39    </td><td>221.53    </td><td>221.53    </td><td>340.06    </td><td>340.06    </td><td>49.59     </td><td>47.73354  </td><td>110.68    </td><td>105.99599 </td></tr>\n",
       "\t<tr><td>2018-01-17</td><td>168.65    </td><td>150.3594  </td><td>90.14     </td><td>86.83537  </td><td>1131.98   </td><td>1131.98   </td><td>179.10    </td><td>172.9592  </td><td>1295.00   </td><td>...       </td><td>177.60    </td><td>177.60    </td><td>217.50    </td><td>217.50    </td><td>347.16    </td><td>347.16    </td><td>50.27     </td><td>48.38808  </td><td>111.19    </td><td>106.48441 </td></tr>\n",
       "\t<tr><td>2018-01-18</td><td>169.12    </td><td>150.7784  </td><td>90.10     </td><td>86.79686  </td><td>1129.79   </td><td>1129.79   </td><td>179.26    </td><td>173.1137  </td><td>1293.32   </td><td>...       </td><td>179.80    </td><td>179.80    </td><td>220.33    </td><td>220.33    </td><td>344.57    </td><td>344.57    </td><td>50.23     </td><td>48.34958  </td><td>111.67    </td><td>106.94409 </td></tr>\n",
       "\t<tr><td>2018-01-19</td><td>162.37    </td><td>144.7605  </td><td>90.00     </td><td>86.70052  </td><td>1137.51   </td><td>1137.51   </td><td>178.46    </td><td>172.3411  </td><td>1294.58   </td><td>...       </td><td>181.29    </td><td>181.29    </td><td>220.46    </td><td>220.46    </td><td>350.02    </td><td>350.02    </td><td>50.58     </td><td>48.68648  </td><td>113.20    </td><td>108.40934 </td></tr>\n",
       "\t<tr><td>2018-01-22</td><td>162.60    </td><td>144.9655  </td><td>91.61     </td><td>88.25149  </td><td>1155.81   </td><td>1155.81   </td><td>177.00    </td><td>170.9312  </td><td>1327.31   </td><td>...       </td><td>185.37    </td><td>185.37    </td><td>227.58    </td><td>227.58    </td><td>351.56    </td><td>351.56    </td><td>50.71     </td><td>48.81161  </td><td>112.78    </td><td>108.00713 </td></tr>\n",
       "\t<tr><td>2018-01-23</td><td>166.25    </td><td>148.2197  </td><td>91.90     </td><td>88.53088  </td><td>1169.97   </td><td>1169.97   </td><td>177.04    </td><td>170.9698  </td><td>1362.54   </td><td>...       </td><td>189.35    </td><td>189.35    </td><td>250.29    </td><td>250.29    </td><td>352.79    </td><td>352.79    </td><td>51.12     </td><td>49.20626  </td><td>114.27    </td><td>109.43406 </td></tr>\n",
       "\t<tr><td>2018-01-24</td><td>165.37    </td><td>147.4351  </td><td>91.82     </td><td>88.45379  </td><td>1164.24   </td><td>1164.24   </td><td>174.22    </td><td>168.2465  </td><td>1357.51   </td><td>...       </td><td>186.55    </td><td>186.55    </td><td>261.30    </td><td>261.30    </td><td>345.89    </td><td>345.89    </td><td>51.45     </td><td>49.52391  </td><td>114.37    </td><td>109.52984 </td></tr>\n",
       "\t<tr><td>2018-01-25</td><td>165.47    </td><td>147.5243  </td><td>92.33     </td><td>88.94511  </td><td>1170.37   </td><td>1170.37   </td><td>171.11    </td><td>165.2431  </td><td>1377.95   </td><td>...       </td><td>187.48    </td><td>187.48    </td><td>269.70    </td><td>269.70    </td><td>337.64    </td><td>337.64    </td><td>51.60     </td><td>49.66829  </td><td>112.84    </td><td>108.06458 </td></tr>\n",
       "\t<tr><td>2018-01-26</td><td>167.34    </td><td>149.1915  </td><td>94.06     </td><td>90.61168  </td><td>1175.84   </td><td>1175.84   </td><td>171.51    </td><td>165.6294  </td><td>1402.05   </td><td>...       </td><td>190.00    </td><td>190.00    </td><td>274.60    </td><td>274.60    </td><td>342.85    </td><td>342.85    </td><td>52.75     </td><td>50.77524  </td><td>114.54    </td><td>109.69263 </td></tr>\n",
       "\t<tr><td>2018-01-29</td><td>166.80    </td><td>148.7100  </td><td>93.92     </td><td>90.47681  </td><td>1175.58   </td><td>1175.58   </td><td>167.96    </td><td>162.2011  </td><td>1417.68   </td><td>...       </td><td>185.98    </td><td>185.98    </td><td>284.59    </td><td>284.59    </td><td>349.53    </td><td>349.53    </td><td>51.94     </td><td>49.99556  </td><td>113.54    </td><td>108.73496 </td></tr>\n",
       "\t<tr><td>2018-01-30</td><td>163.62    </td><td>145.8749  </td><td>92.74     </td><td>89.34006  </td><td>1163.69   </td><td>1163.69   </td><td>166.97    </td><td>161.2451  </td><td>1437.82   </td><td>...       </td><td>187.12    </td><td>187.12    </td><td>278.80    </td><td>278.80    </td><td>345.82    </td><td>345.82    </td><td>50.96     </td><td>49.05225  </td><td>110.81    </td><td>106.12049 </td></tr>\n",
       "\t<tr><td>2018-01-31</td><td>163.70    </td><td>145.9463  </td><td>95.01     </td><td>91.52685  </td><td>1169.94   </td><td>1169.94   </td><td>167.43    </td><td>161.6893  </td><td>1450.89   </td><td>...       </td><td>186.89    </td><td>186.89    </td><td>270.30    </td><td>270.30    </td><td>354.31    </td><td>354.31    </td><td>51.59     </td><td>49.65866  </td><td>113.25    </td><td>108.45723 </td></tr>\n",
       "\t<tr><td>2018-02-01</td><td>162.40    </td><td>144.7872  </td><td>94.26     </td><td>90.80435  </td><td>1167.70   </td><td>1167.70   </td><td>167.78    </td><td>162.0273  </td><td>1390.00   </td><td>...       </td><td>193.09    </td><td>193.09    </td><td>265.07    </td><td>265.07    </td><td>349.25    </td><td>349.25    </td><td>51.63     </td><td>49.69717  </td><td>111.65    </td><td>106.92494 </td></tr>\n",
       "\t<tr><td>2018-02-02</td><td>159.03    </td><td>141.7827  </td><td>91.78     </td><td>88.41526  </td><td>1111.90   </td><td>1111.90   </td><td>160.50    </td><td>154.9969  </td><td>1429.95   </td><td>...       </td><td>190.28    </td><td>190.28    </td><td>267.43    </td><td>267.43    </td><td>343.75    </td><td>343.75    </td><td>50.13     </td><td>48.25333  </td><td>109.15    </td><td>104.53074 </td></tr>\n",
       "\t<tr><td>2018-02-05</td><td>152.53    </td><td>135.9877  </td><td>88.00     </td><td>84.77384  </td><td>1055.80   </td><td>1055.80   </td><td>156.49    </td><td>151.1244  </td><td>1390.00   </td><td>...       </td><td>181.26    </td><td>181.26    </td><td>254.26    </td><td>254.26    </td><td>333.13    </td><td>333.13    </td><td>48.09     </td><td>46.28969  </td><td>105.87    </td><td>101.38956 </td></tr>\n",
       "\t<tr><td>2018-02-06</td><td>155.34    </td><td>138.4929  </td><td>91.33     </td><td>87.98175  </td><td>1080.60   </td><td>1080.60   </td><td>163.03    </td><td>157.4402  </td><td>1442.84   </td><td>...       </td><td>185.31    </td><td>185.31    </td><td>265.72    </td><td>265.72    </td><td>333.97    </td><td>333.97    </td><td>49.40     </td><td>47.55065  </td><td>108.36    </td><td>103.77418 </td></tr>\n",
       "\t<tr><td>2018-02-07</td><td>153.85    </td><td>137.1645  </td><td>89.61     </td><td>86.32481  </td><td>1048.58   </td><td>1048.58   </td><td>159.54    </td><td>154.0698  </td><td>1416.78   </td><td>...       </td><td>180.18    </td><td>180.18    </td><td>264.56    </td><td>264.56    </td><td>345.00    </td><td>345.00    </td><td>48.87     </td><td>47.04050  </td><td>105.09    </td><td>100.64256 </td></tr>\n",
       "\t<tr><td>2018-02-08</td><td>147.59    </td><td>132.8790  </td><td>85.01     </td><td>81.89347  </td><td>1001.52   </td><td>1001.52   </td><td>155.15    </td><td>149.8304  </td><td>1350.50   </td><td>...       </td><td>171.58    </td><td>171.58    </td><td>250.10    </td><td>250.10    </td><td>315.23    </td><td>315.23    </td><td>46.84     </td><td>45.08649  </td><td>101.66    </td><td> 97.35773 </td></tr>\n",
       "\t<tr><td>2018-02-09</td><td>149.51    </td><td>134.6076  </td><td>88.18     </td><td>84.94724  </td><td>1037.78   </td><td>1037.78   </td><td>156.41    </td><td>151.6630  </td><td>1339.60   </td><td>...       </td><td>176.11    </td><td>176.11    </td><td>249.47    </td><td>249.47    </td><td>310.42    </td><td>310.42    </td><td>47.73     </td><td>45.94317  </td><td>101.99    </td><td> 97.67375 </td></tr>\n",
       "\t<tr><td>2018-02-12</td><td>151.40    </td><td>136.3092  </td><td>89.13     </td><td>85.86240  </td><td>1051.94   </td><td>1051.94   </td><td>162.71    </td><td>157.7718  </td><td>1386.23   </td><td>...       </td><td>176.41    </td><td>176.41    </td><td>257.95    </td><td>257.95    </td><td>315.73    </td><td>315.73    </td><td>48.15     </td><td>46.34745  </td><td>102.75    </td><td> 98.40160 </td></tr>\n",
       "\t<tr><td>2018-02-13</td><td>150.75    </td><td>135.7240  </td><td>89.83     </td><td>86.53676  </td><td>1052.10   </td><td>1052.10   </td><td>164.34    </td><td>159.3523  </td><td>1414.51   </td><td>...       </td><td>173.15    </td><td>173.15    </td><td>258.27    </td><td>258.27    </td><td>323.66    </td><td>323.66    </td><td>48.49     </td><td>46.67472  </td><td>102.80    </td><td> 98.44948 </td></tr>\n",
       "\t<tr><td>...</td><td>...</td><td>...</td><td>...</td><td>...</td><td>...</td><td>...</td><td>...</td><td>...</td><td>...</td><td>   </td><td>...</td><td>...</td><td>...</td><td>...</td><td>...</td><td>...</td><td>...</td><td>...</td><td>...</td><td>...</td></tr>\n",
       "\t<tr><td>2018-11-14</td><td>120.20    </td><td>112.0112  </td><td>104.97    </td><td>102.87225 </td><td>1043.66   </td><td>1043.66   </td><td>186.80    </td><td>183.1035  </td><td>1599.01   </td><td>...       </td><td>144.22    </td><td>144.22    </td><td>286.73    </td><td>286.73    </td><td>344.00    </td><td>344.00    </td><td>48.84     </td><td>47.58223  </td><td>103.83    </td><td>100.95808 </td></tr>\n",
       "\t<tr><td>2018-11-15</td><td>121.44    </td><td>113.1667  </td><td>107.28    </td><td>105.13609 </td><td>1064.71   </td><td>1064.71   </td><td>191.41    </td><td>187.6223  </td><td>1619.44   </td><td>...       </td><td>143.85    </td><td>143.85    </td><td>290.06    </td><td>290.06    </td><td>348.44    </td><td>348.44    </td><td>50.63     </td><td>49.32613  </td><td>105.48    </td><td>102.56244 </td></tr>\n",
       "\t<tr><td>2018-11-16</td><td>121.57    </td><td>113.2879  </td><td>108.29    </td><td>106.12591 </td><td>1061.49   </td><td>1061.49   </td><td>193.53    </td><td>189.7003  </td><td>1593.41   </td><td>...       </td><td>139.53    </td><td>139.53    </td><td>286.21    </td><td>286.21    </td><td>354.31    </td><td>354.31    </td><td>51.17     </td><td>49.85223  </td><td>104.60    </td><td>101.70677 </td></tr>\n",
       "\t<tr><td>2018-11-19</td><td>120.31    </td><td>112.1137  </td><td>104.62    </td><td>102.52925 </td><td>1020.00   </td><td>1020.00   </td><td>185.86    </td><td>182.1821  </td><td>1512.29   </td><td>...       </td><td>131.55    </td><td>131.55    </td><td>270.60    </td><td>270.60    </td><td>353.47    </td><td>353.47    </td><td>49.55     </td><td>48.27394  </td><td>101.58    </td><td> 98.77031 </td></tr>\n",
       "\t<tr><td>2018-11-20</td><td>117.20    </td><td>109.2156  </td><td>101.71    </td><td> 99.67741 </td><td>1025.76   </td><td>1025.76   </td><td>176.98    </td><td>173.4778  </td><td>1495.46   </td><td>...       </td><td>132.43    </td><td>132.43    </td><td>266.98    </td><td>266.98    </td><td>347.49    </td><td>347.49    </td><td>48.33     </td><td>47.08537  </td><td> 99.98    </td><td> 97.21457 </td></tr>\n",
       "\t<tr><td>2018-11-21</td><td>118.57    </td><td>110.4922  </td><td>103.11    </td><td>101.04942 </td><td>1037.61   </td><td>1037.61   </td><td>176.78    </td><td>173.2818  </td><td>1516.73   </td><td>...       </td><td>134.82    </td><td>134.82    </td><td>262.13    </td><td>262.13    </td><td>338.19    </td><td>338.19    </td><td>48.62     </td><td>47.36790  </td><td>101.51    </td><td> 98.70225 </td></tr>\n",
       "\t<tr><td>2018-11-23</td><td>117.19    </td><td>109.2063  </td><td>103.07    </td><td>101.01022 </td><td>1023.88   </td><td>1023.88   </td><td>172.29    </td><td>168.8806  </td><td>1502.06   </td><td>...       </td><td>131.73    </td><td>131.73    </td><td>258.82    </td><td>258.82    </td><td>325.83    </td><td>325.83    </td><td>48.70     </td><td>47.44584  </td><td>100.99    </td><td> 98.19662 </td></tr>\n",
       "\t<tr><td>2018-11-26</td><td>119.56    </td><td>111.4148  </td><td>106.47    </td><td>104.34228 </td><td>1048.62   </td><td>1048.62   </td><td>174.62    </td><td>171.1645  </td><td>1581.33   </td><td>...       </td><td>136.38    </td><td>136.38    </td><td>261.43    </td><td>261.43    </td><td>346.00    </td><td>346.00    </td><td>48.26     </td><td>47.01717  </td><td>102.74    </td><td> 99.89822 </td></tr>\n",
       "\t<tr><td>2018-11-27</td><td>120.03    </td><td>111.8528  </td><td>107.14    </td><td>104.99889 </td><td>1044.41   </td><td>1044.41   </td><td>174.24    </td><td>170.7920  </td><td>1581.42   </td><td>...       </td><td>135.00    </td><td>135.00    </td><td>266.63    </td><td>266.63    </td><td>343.92    </td><td>343.92    </td><td>47.44     </td><td>46.21829  </td><td>101.86    </td><td> 99.04256 </td></tr>\n",
       "\t<tr><td>2018-11-28</td><td>123.00    </td><td>114.6204  </td><td>111.12    </td><td>108.89935 </td><td>1086.23   </td><td>1086.23   </td><td>180.94    </td><td>177.3595  </td><td>1677.75   </td><td>...       </td><td>136.76    </td><td>136.76    </td><td>282.65    </td><td>282.65    </td><td>347.87    </td><td>347.87    </td><td>48.19     </td><td>46.94897  </td><td>104.91    </td><td>102.00821 </td></tr>\n",
       "\t<tr><td>2018-11-29</td><td>121.48    </td><td>113.2040  </td><td>110.19    </td><td>107.98794 </td><td>1088.30   </td><td>1088.30   </td><td>179.55    </td><td>175.9969  </td><td>1673.57   </td><td>...       </td><td>138.68    </td><td>138.68    </td><td>288.75    </td><td>288.75    </td><td>341.17    </td><td>341.17    </td><td>47.90     </td><td>46.66644  </td><td>103.99    </td><td>101.11364 </td></tr>\n",
       "\t<tr><td>2018-11-30</td><td>124.27    </td><td>115.8039  </td><td>110.89    </td><td>108.67395 </td><td>1094.43   </td><td>1094.43   </td><td>178.58    </td><td>175.0462  </td><td>1690.17   </td><td>...       </td><td>140.61    </td><td>140.61    </td><td>286.13    </td><td>286.13    </td><td>350.48    </td><td>350.48    </td><td>48.76     </td><td>47.50429  </td><td>103.68    </td><td>100.81222 </td></tr>\n",
       "\t<tr><td>2018-12-03</td><td>125.31    </td><td>116.7731  </td><td>112.09    </td><td>109.84996 </td><td>1106.43   </td><td>1106.43   </td><td>184.82    </td><td>181.1627  </td><td>1772.36   </td><td>...       </td><td>141.09    </td><td>141.09    </td><td>290.30    </td><td>290.30    </td><td>358.49    </td><td>358.49    </td><td>49.83     </td><td>48.54674  </td><td>105.29    </td><td>102.37769 </td></tr>\n",
       "\t<tr><td>2018-12-04</td><td>121.60    </td><td>113.3158  </td><td>108.52    </td><td>106.35129 </td><td>1050.82   </td><td>1050.82   </td><td>176.69    </td><td>173.1935  </td><td>1668.40   </td><td>...       </td><td>137.93    </td><td>137.93    </td><td>275.33    </td><td>275.33    </td><td>359.70    </td><td>359.70    </td><td>48.75     </td><td>47.49455  </td><td>102.91    </td><td>100.06352 </td></tr>\n",
       "\t<tr><td>2018-12-06</td><td>123.91    </td><td>115.4685  </td><td>109.19    </td><td>107.00793 </td><td>1068.73   </td><td>1068.73   </td><td>174.72    </td><td>171.2625  </td><td>1699.19   </td><td>...       </td><td>139.63    </td><td>139.63    </td><td>282.88    </td><td>282.88    </td><td>363.06    </td><td>363.06    </td><td>46.68     </td><td>45.47786  </td><td>101.51    </td><td> 98.70225 </td></tr>\n",
       "\t<tr><td>2018-12-07</td><td>119.34    </td><td>111.2098  </td><td>104.82    </td><td>102.72525 </td><td>1036.58   </td><td>1036.58   </td><td>168.49    </td><td>165.1558  </td><td>1629.13   </td><td>...       </td><td>137.42    </td><td>137.42    </td><td>265.14    </td><td>265.14    </td><td>357.97    </td><td>357.97    </td><td>46.00     </td><td>44.81537  </td><td>100.72    </td><td> 97.93410 </td></tr>\n",
       "\t<tr><td>2018-12-10</td><td>121.13    </td><td>112.8778  </td><td>107.59    </td><td>105.43988 </td><td>1039.55   </td><td>1039.55   </td><td>169.60    </td><td>166.2439  </td><td>1641.03   </td><td>...       </td><td>141.85    </td><td>141.85    </td><td>269.70    </td><td>269.70    </td><td>365.15    </td><td>365.15    </td><td>46.67     </td><td>45.46811  </td><td>101.90    </td><td> 99.08146 </td></tr>\n",
       "\t<tr><td>2018-12-11</td><td>120.89    </td><td>112.6542  </td><td>108.59    </td><td>106.41990 </td><td>1051.75   </td><td>1051.75   </td><td>168.63    </td><td>165.2930  </td><td>1643.24   </td><td>...       </td><td>142.08    </td><td>142.08    </td><td>265.32    </td><td>265.32    </td><td>366.76    </td><td>366.76    </td><td>46.46     </td><td>45.26352  </td><td>101.56    </td><td> 98.75086 </td></tr>\n",
       "\t<tr><td>2018-12-12</td><td>121.16    </td><td>112.9058  </td><td>109.08    </td><td>106.90012 </td><td>1063.68   </td><td>1063.68   </td><td>169.10    </td><td>165.7537  </td><td>1663.54   </td><td>...       </td><td>144.50    </td><td>144.50    </td><td>274.88    </td><td>274.88    </td><td>366.60    </td><td>366.60    </td><td>47.32     </td><td>46.10138  </td><td>103.34    </td><td>100.48162 </td></tr>\n",
       "\t<tr><td>2018-12-13</td><td>120.73    </td><td>112.5051  </td><td>109.45    </td><td>107.26271 </td><td>1061.90   </td><td>1061.90   </td><td>170.95    </td><td>167.5671  </td><td>1658.38   </td><td>...       </td><td>145.01    </td><td>145.01    </td><td>276.02    </td><td>276.02    </td><td>376.79    </td><td>376.79    </td><td>47.23     </td><td>46.01369  </td><td>103.46    </td><td>100.59831 </td></tr>\n",
       "\t<tr><td>2018-12-14</td><td>119.90    </td><td>111.7316  </td><td>106.03    </td><td>103.91106 </td><td>1042.10   </td><td>1042.10   </td><td>165.48    </td><td>162.2054  </td><td>1591.91   </td><td>...       </td><td>144.06    </td><td>144.06    </td><td>266.84    </td><td>266.84    </td><td>365.71    </td><td>365.71    </td><td>46.60     </td><td>45.39992  </td><td>100.99    </td><td> 98.19662 </td></tr>\n",
       "\t<tr><td>2018-12-17</td><td>116.10    </td><td>108.1905  </td><td>102.89    </td><td>100.83382 </td><td>1016.53   </td><td>1016.53   </td><td>163.94    </td><td>160.6959  </td><td>1520.91   </td><td>...       </td><td>140.19    </td><td>140.19    </td><td>262.80    </td><td>262.80    </td><td>348.42    </td><td>348.42    </td><td>45.73     </td><td>44.55232  </td><td> 99.62    </td><td> 96.86453 </td></tr>\n",
       "\t<tr><td>2018-12-18</td><td>116.65    </td><td>108.7031  </td><td>103.97    </td><td>101.89223 </td><td>1028.71   </td><td>1028.71   </td><td>166.07    </td><td>162.7837  </td><td>1551.48   </td><td>...       </td><td>143.66    </td><td>143.66    </td><td>270.94    </td><td>270.94    </td><td>337.03    </td><td>337.03    </td><td>45.85     </td><td>44.66923  </td><td>100.08    </td><td> 97.31180 </td></tr>\n",
       "\t<tr><td>2018-12-19</td><td>116.43    </td><td>108.4980  </td><td>103.69    </td><td>101.61784 </td><td>1023.01   </td><td>1023.01   </td><td>160.89    </td><td>157.7062  </td><td>1495.08   </td><td>...       </td><td>133.24    </td><td>133.24    </td><td>266.77    </td><td>266.77    </td><td>332.97    </td><td>332.97    </td><td>46.45     </td><td>45.25378  </td><td>100.11    </td><td> 97.34096 </td></tr>\n",
       "\t<tr><td>2018-12-20</td><td>113.02    </td><td>105.3203  </td><td>101.51    </td><td> 99.48140 </td><td>1009.41   </td><td>1009.41   </td><td>156.83    </td><td>153.7265  </td><td>1460.83   </td><td>...       </td><td>133.40    </td><td>133.40    </td><td>260.58    </td><td>260.58    </td><td>315.38    </td><td>315.38    </td><td>46.24     </td><td>45.04919  </td><td>100.10    </td><td> 97.33124 </td></tr>\n",
       "\t<tr><td>2018-12-21</td><td>110.94    </td><td>103.3821  </td><td> 98.23    </td><td> 96.26694 </td><td> 979.54   </td><td> 979.54   </td><td>150.73    </td><td>147.7473  </td><td>1377.45   </td><td>...       </td><td>124.95    </td><td>124.95    </td><td>246.39    </td><td>246.39    </td><td>319.77    </td><td>319.77    </td><td>44.00     </td><td>42.86688  </td><td> 96.14    </td><td> 93.48078 </td></tr>\n",
       "\t<tr><td>2018-12-24</td><td>107.57    </td><td>100.2416  </td><td> 94.13    </td><td> 92.24888 </td><td> 976.22   </td><td> 976.22   </td><td>146.83    </td><td>143.9245  </td><td>1343.96   </td><td>...       </td><td>124.06    </td><td>124.06    </td><td>233.88    </td><td>233.88    </td><td>295.39    </td><td>295.39    </td><td>42.69     </td><td>41.59061  </td><td> 95.00    </td><td> 92.37231 </td></tr>\n",
       "\t<tr><td>2018-12-26</td><td>111.39    </td><td>103.8014  </td><td>100.56    </td><td> 98.55038 </td><td>1039.46   </td><td>1039.46   </td><td>157.17    </td><td>154.0598  </td><td>1470.90   </td><td>...       </td><td>134.18    </td><td>134.18    </td><td>253.67    </td><td>253.67    </td><td>326.09    </td><td>326.09    </td><td>44.59     </td><td>43.44168  </td><td> 98.38    </td><td> 95.65881 </td></tr>\n",
       "\t<tr><td>2018-12-27</td><td>113.78    </td><td>106.0286  </td><td>101.18    </td><td> 99.15801 </td><td>1043.88   </td><td>1043.88   </td><td>156.15    </td><td>153.0600  </td><td>1461.64   </td><td>...       </td><td>134.52    </td><td>134.52    </td><td>255.57    </td><td>255.57    </td><td>316.13    </td><td>316.13    </td><td>44.97     </td><td>43.81189  </td><td> 98.99    </td><td> 96.25195 </td></tr>\n",
       "\t<tr><td>2018-12-28</td><td>113.03    </td><td>105.3297  </td><td>100.39    </td><td> 98.38378 </td><td>1037.08   </td><td>1037.08   </td><td>156.23    </td><td>153.1384  </td><td>1478.02   </td><td>...       </td><td>133.20    </td><td>133.20    </td><td>256.08    </td><td>256.08    </td><td>333.87    </td><td>333.87    </td><td>44.82     </td><td>43.66575  </td><td> 99.20    </td><td> 96.45613 </td></tr>\n",
       "</tbody>\n",
       "</table>\n"
      ],
      "text/latex": [
       "\\begin{tabular}{r|lllllllllllllllllllll}\n",
       " Date & ibm\\_Close & ibm\\_Adj.Close & msft\\_Close & msft\\_Adj.Close & goog\\_Close & goog\\_Adj.Close & aapl\\_Close & aapl\\_Adj.Close & amzn\\_Close & ... & fb\\_Close & fb\\_Adj.Close & nflx\\_Close & nflx\\_Adj.Close & tsla\\_Close & tsla\\_Adj.Close & orcl\\_Close & orcl\\_Adj.Close & sap\\_Close & sap\\_Adj.Close\\\\\n",
       "\\hline\n",
       "\t 2018-01-02 & 154.25     & 137.5211   & 85.95      & 82.79900   & 1065.00    & 1065.00    & 172.26     & 166.3537   & 1189.01    & ...        & 181.42     & 181.42     & 201.07     & 201.07     & 320.53     & 320.53     & 46.63      & 44.71024   & 112.39     & 107.63362 \\\\\n",
       "\t 2018-01-03 & 158.49     & 141.3013   & 86.35      & 83.18433   & 1082.48    & 1082.48    & 172.23     & 166.3247   & 1204.20    & ...        & 184.67     & 184.67     & 205.05     & 205.05     & 317.25     & 317.25     & 47.71      & 45.74577   & 113.31     & 108.51469 \\\\\n",
       "\t 2018-01-04 & 161.70     & 144.1631   & 87.11      & 83.91647   & 1086.40    & 1086.40    & 173.03     & 167.0973   & 1209.59    & ...        & 184.33     & 184.33     & 205.63     & 205.63     & 314.62     & 314.62     & 48.18      & 46.19643   & 115.05     & 110.18106 \\\\\n",
       "\t 2018-01-05 & 162.49     & 144.8675   & 88.19      & 84.95689   & 1102.23    & 1102.23    & 175.00     & 168.9997   & 1229.14    & ...        & 186.85     & 186.85     & 209.99     & 209.99     & 316.58     & 316.58     & 48.47      & 46.47449   & 116.33     & 111.40688 \\\\\n",
       "\t 2018-01-08 & 163.47     & 145.7412   & 88.28      & 85.04357   & 1106.94    & 1106.94    & 174.35     & 168.3720   & 1246.87    & ...        & 188.28     & 188.28     & 212.05     & 212.05     & 336.41     & 336.41     & 48.98      & 46.96349   & 114.80     & 109.94164 \\\\\n",
       "\t 2018-01-09 & 163.83     & 146.0621   & 88.22      & 84.98579   & 1106.26    & 1106.26    & 174.33     & 168.3527   & 1252.70    & ...        & 187.87     & 187.87     & 209.31     & 209.31     & 333.69     & 333.69     & 49.06      & 47.22339   & 114.16     & 109.32872 \\\\\n",
       "\t 2018-01-10 & 164.18     & 146.3742   & 87.82      & 84.60045   & 1102.61    & 1102.61    & 174.29     & 168.3141   & 1254.33    & ...        & 187.84     & 187.84     & 212.52     & 212.52     & 334.80     & 334.80     & 48.80      & 46.97311   & 112.87     & 108.09332 \\\\\n",
       "\t 2018-01-11 & 164.20     & 146.3920   & 88.08      & 84.85091   & 1105.52    & 1105.52    & 175.28     & 169.2702   & 1276.68    & ...        & 187.77     & 187.77     & 217.24     & 217.24     & 337.95     & 337.95     & 48.95      & 47.11750   & 109.64     & 105.00001 \\\\\n",
       "\t 2018-01-12 & 163.14     & 145.4470   & 89.60      & 86.31518   & 1122.26    & 1122.26    & 177.09     & 171.0181   & 1305.20    & ...        & 179.37     & 179.37     & 221.23     & 221.23     & 336.22     & 336.22     & 49.51      & 47.65653   & 110.13     & 105.46926 \\\\\n",
       "\t 2018-01-16 & 163.85     & 146.0800   & 88.35      & 85.11101   & 1121.76    & 1121.76    & 176.19     & 170.1490   & 1304.86    & ...        & 178.39     & 178.39     & 221.53     & 221.53     & 340.06     & 340.06     & 49.59      & 47.73354   & 110.68     & 105.99599 \\\\\n",
       "\t 2018-01-17 & 168.65     & 150.3594   & 90.14      & 86.83537   & 1131.98    & 1131.98    & 179.10     & 172.9592   & 1295.00    & ...        & 177.60     & 177.60     & 217.50     & 217.50     & 347.16     & 347.16     & 50.27      & 48.38808   & 111.19     & 106.48441 \\\\\n",
       "\t 2018-01-18 & 169.12     & 150.7784   & 90.10      & 86.79686   & 1129.79    & 1129.79    & 179.26     & 173.1137   & 1293.32    & ...        & 179.80     & 179.80     & 220.33     & 220.33     & 344.57     & 344.57     & 50.23      & 48.34958   & 111.67     & 106.94409 \\\\\n",
       "\t 2018-01-19 & 162.37     & 144.7605   & 90.00      & 86.70052   & 1137.51    & 1137.51    & 178.46     & 172.3411   & 1294.58    & ...        & 181.29     & 181.29     & 220.46     & 220.46     & 350.02     & 350.02     & 50.58      & 48.68648   & 113.20     & 108.40934 \\\\\n",
       "\t 2018-01-22 & 162.60     & 144.9655   & 91.61      & 88.25149   & 1155.81    & 1155.81    & 177.00     & 170.9312   & 1327.31    & ...        & 185.37     & 185.37     & 227.58     & 227.58     & 351.56     & 351.56     & 50.71      & 48.81161   & 112.78     & 108.00713 \\\\\n",
       "\t 2018-01-23 & 166.25     & 148.2197   & 91.90      & 88.53088   & 1169.97    & 1169.97    & 177.04     & 170.9698   & 1362.54    & ...        & 189.35     & 189.35     & 250.29     & 250.29     & 352.79     & 352.79     & 51.12      & 49.20626   & 114.27     & 109.43406 \\\\\n",
       "\t 2018-01-24 & 165.37     & 147.4351   & 91.82      & 88.45379   & 1164.24    & 1164.24    & 174.22     & 168.2465   & 1357.51    & ...        & 186.55     & 186.55     & 261.30     & 261.30     & 345.89     & 345.89     & 51.45      & 49.52391   & 114.37     & 109.52984 \\\\\n",
       "\t 2018-01-25 & 165.47     & 147.5243   & 92.33      & 88.94511   & 1170.37    & 1170.37    & 171.11     & 165.2431   & 1377.95    & ...        & 187.48     & 187.48     & 269.70     & 269.70     & 337.64     & 337.64     & 51.60      & 49.66829   & 112.84     & 108.06458 \\\\\n",
       "\t 2018-01-26 & 167.34     & 149.1915   & 94.06      & 90.61168   & 1175.84    & 1175.84    & 171.51     & 165.6294   & 1402.05    & ...        & 190.00     & 190.00     & 274.60     & 274.60     & 342.85     & 342.85     & 52.75      & 50.77524   & 114.54     & 109.69263 \\\\\n",
       "\t 2018-01-29 & 166.80     & 148.7100   & 93.92      & 90.47681   & 1175.58    & 1175.58    & 167.96     & 162.2011   & 1417.68    & ...        & 185.98     & 185.98     & 284.59     & 284.59     & 349.53     & 349.53     & 51.94      & 49.99556   & 113.54     & 108.73496 \\\\\n",
       "\t 2018-01-30 & 163.62     & 145.8749   & 92.74      & 89.34006   & 1163.69    & 1163.69    & 166.97     & 161.2451   & 1437.82    & ...        & 187.12     & 187.12     & 278.80     & 278.80     & 345.82     & 345.82     & 50.96      & 49.05225   & 110.81     & 106.12049 \\\\\n",
       "\t 2018-01-31 & 163.70     & 145.9463   & 95.01      & 91.52685   & 1169.94    & 1169.94    & 167.43     & 161.6893   & 1450.89    & ...        & 186.89     & 186.89     & 270.30     & 270.30     & 354.31     & 354.31     & 51.59      & 49.65866   & 113.25     & 108.45723 \\\\\n",
       "\t 2018-02-01 & 162.40     & 144.7872   & 94.26      & 90.80435   & 1167.70    & 1167.70    & 167.78     & 162.0273   & 1390.00    & ...        & 193.09     & 193.09     & 265.07     & 265.07     & 349.25     & 349.25     & 51.63      & 49.69717   & 111.65     & 106.92494 \\\\\n",
       "\t 2018-02-02 & 159.03     & 141.7827   & 91.78      & 88.41526   & 1111.90    & 1111.90    & 160.50     & 154.9969   & 1429.95    & ...        & 190.28     & 190.28     & 267.43     & 267.43     & 343.75     & 343.75     & 50.13      & 48.25333   & 109.15     & 104.53074 \\\\\n",
       "\t 2018-02-05 & 152.53     & 135.9877   & 88.00      & 84.77384   & 1055.80    & 1055.80    & 156.49     & 151.1244   & 1390.00    & ...        & 181.26     & 181.26     & 254.26     & 254.26     & 333.13     & 333.13     & 48.09      & 46.28969   & 105.87     & 101.38956 \\\\\n",
       "\t 2018-02-06 & 155.34     & 138.4929   & 91.33      & 87.98175   & 1080.60    & 1080.60    & 163.03     & 157.4402   & 1442.84    & ...        & 185.31     & 185.31     & 265.72     & 265.72     & 333.97     & 333.97     & 49.40      & 47.55065   & 108.36     & 103.77418 \\\\\n",
       "\t 2018-02-07 & 153.85     & 137.1645   & 89.61      & 86.32481   & 1048.58    & 1048.58    & 159.54     & 154.0698   & 1416.78    & ...        & 180.18     & 180.18     & 264.56     & 264.56     & 345.00     & 345.00     & 48.87      & 47.04050   & 105.09     & 100.64256 \\\\\n",
       "\t 2018-02-08 & 147.59     & 132.8790   & 85.01      & 81.89347   & 1001.52    & 1001.52    & 155.15     & 149.8304   & 1350.50    & ...        & 171.58     & 171.58     & 250.10     & 250.10     & 315.23     & 315.23     & 46.84      & 45.08649   & 101.66     &  97.35773 \\\\\n",
       "\t 2018-02-09 & 149.51     & 134.6076   & 88.18      & 84.94724   & 1037.78    & 1037.78    & 156.41     & 151.6630   & 1339.60    & ...        & 176.11     & 176.11     & 249.47     & 249.47     & 310.42     & 310.42     & 47.73      & 45.94317   & 101.99     &  97.67375 \\\\\n",
       "\t 2018-02-12 & 151.40     & 136.3092   & 89.13      & 85.86240   & 1051.94    & 1051.94    & 162.71     & 157.7718   & 1386.23    & ...        & 176.41     & 176.41     & 257.95     & 257.95     & 315.73     & 315.73     & 48.15      & 46.34745   & 102.75     &  98.40160 \\\\\n",
       "\t 2018-02-13 & 150.75     & 135.7240   & 89.83      & 86.53676   & 1052.10    & 1052.10    & 164.34     & 159.3523   & 1414.51    & ...        & 173.15     & 173.15     & 258.27     & 258.27     & 323.66     & 323.66     & 48.49      & 46.67472   & 102.80     &  98.44948 \\\\\n",
       "\t ... & ... & ... & ... & ... & ... & ... & ... & ... & ... &     & ... & ... & ... & ... & ... & ... & ... & ... & ... & ...\\\\\n",
       "\t 2018-11-14 & 120.20     & 112.0112   & 104.97     & 102.87225  & 1043.66    & 1043.66    & 186.80     & 183.1035   & 1599.01    & ...        & 144.22     & 144.22     & 286.73     & 286.73     & 344.00     & 344.00     & 48.84      & 47.58223   & 103.83     & 100.95808 \\\\\n",
       "\t 2018-11-15 & 121.44     & 113.1667   & 107.28     & 105.13609  & 1064.71    & 1064.71    & 191.41     & 187.6223   & 1619.44    & ...        & 143.85     & 143.85     & 290.06     & 290.06     & 348.44     & 348.44     & 50.63      & 49.32613   & 105.48     & 102.56244 \\\\\n",
       "\t 2018-11-16 & 121.57     & 113.2879   & 108.29     & 106.12591  & 1061.49    & 1061.49    & 193.53     & 189.7003   & 1593.41    & ...        & 139.53     & 139.53     & 286.21     & 286.21     & 354.31     & 354.31     & 51.17      & 49.85223   & 104.60     & 101.70677 \\\\\n",
       "\t 2018-11-19 & 120.31     & 112.1137   & 104.62     & 102.52925  & 1020.00    & 1020.00    & 185.86     & 182.1821   & 1512.29    & ...        & 131.55     & 131.55     & 270.60     & 270.60     & 353.47     & 353.47     & 49.55      & 48.27394   & 101.58     &  98.77031 \\\\\n",
       "\t 2018-11-20 & 117.20     & 109.2156   & 101.71     &  99.67741  & 1025.76    & 1025.76    & 176.98     & 173.4778   & 1495.46    & ...        & 132.43     & 132.43     & 266.98     & 266.98     & 347.49     & 347.49     & 48.33      & 47.08537   &  99.98     &  97.21457 \\\\\n",
       "\t 2018-11-21 & 118.57     & 110.4922   & 103.11     & 101.04942  & 1037.61    & 1037.61    & 176.78     & 173.2818   & 1516.73    & ...        & 134.82     & 134.82     & 262.13     & 262.13     & 338.19     & 338.19     & 48.62      & 47.36790   & 101.51     &  98.70225 \\\\\n",
       "\t 2018-11-23 & 117.19     & 109.2063   & 103.07     & 101.01022  & 1023.88    & 1023.88    & 172.29     & 168.8806   & 1502.06    & ...        & 131.73     & 131.73     & 258.82     & 258.82     & 325.83     & 325.83     & 48.70      & 47.44584   & 100.99     &  98.19662 \\\\\n",
       "\t 2018-11-26 & 119.56     & 111.4148   & 106.47     & 104.34228  & 1048.62    & 1048.62    & 174.62     & 171.1645   & 1581.33    & ...        & 136.38     & 136.38     & 261.43     & 261.43     & 346.00     & 346.00     & 48.26      & 47.01717   & 102.74     &  99.89822 \\\\\n",
       "\t 2018-11-27 & 120.03     & 111.8528   & 107.14     & 104.99889  & 1044.41    & 1044.41    & 174.24     & 170.7920   & 1581.42    & ...        & 135.00     & 135.00     & 266.63     & 266.63     & 343.92     & 343.92     & 47.44      & 46.21829   & 101.86     &  99.04256 \\\\\n",
       "\t 2018-11-28 & 123.00     & 114.6204   & 111.12     & 108.89935  & 1086.23    & 1086.23    & 180.94     & 177.3595   & 1677.75    & ...        & 136.76     & 136.76     & 282.65     & 282.65     & 347.87     & 347.87     & 48.19      & 46.94897   & 104.91     & 102.00821 \\\\\n",
       "\t 2018-11-29 & 121.48     & 113.2040   & 110.19     & 107.98794  & 1088.30    & 1088.30    & 179.55     & 175.9969   & 1673.57    & ...        & 138.68     & 138.68     & 288.75     & 288.75     & 341.17     & 341.17     & 47.90      & 46.66644   & 103.99     & 101.11364 \\\\\n",
       "\t 2018-11-30 & 124.27     & 115.8039   & 110.89     & 108.67395  & 1094.43    & 1094.43    & 178.58     & 175.0462   & 1690.17    & ...        & 140.61     & 140.61     & 286.13     & 286.13     & 350.48     & 350.48     & 48.76      & 47.50429   & 103.68     & 100.81222 \\\\\n",
       "\t 2018-12-03 & 125.31     & 116.7731   & 112.09     & 109.84996  & 1106.43    & 1106.43    & 184.82     & 181.1627   & 1772.36    & ...        & 141.09     & 141.09     & 290.30     & 290.30     & 358.49     & 358.49     & 49.83      & 48.54674   & 105.29     & 102.37769 \\\\\n",
       "\t 2018-12-04 & 121.60     & 113.3158   & 108.52     & 106.35129  & 1050.82    & 1050.82    & 176.69     & 173.1935   & 1668.40    & ...        & 137.93     & 137.93     & 275.33     & 275.33     & 359.70     & 359.70     & 48.75      & 47.49455   & 102.91     & 100.06352 \\\\\n",
       "\t 2018-12-06 & 123.91     & 115.4685   & 109.19     & 107.00793  & 1068.73    & 1068.73    & 174.72     & 171.2625   & 1699.19    & ...        & 139.63     & 139.63     & 282.88     & 282.88     & 363.06     & 363.06     & 46.68      & 45.47786   & 101.51     &  98.70225 \\\\\n",
       "\t 2018-12-07 & 119.34     & 111.2098   & 104.82     & 102.72525  & 1036.58    & 1036.58    & 168.49     & 165.1558   & 1629.13    & ...        & 137.42     & 137.42     & 265.14     & 265.14     & 357.97     & 357.97     & 46.00      & 44.81537   & 100.72     &  97.93410 \\\\\n",
       "\t 2018-12-10 & 121.13     & 112.8778   & 107.59     & 105.43988  & 1039.55    & 1039.55    & 169.60     & 166.2439   & 1641.03    & ...        & 141.85     & 141.85     & 269.70     & 269.70     & 365.15     & 365.15     & 46.67      & 45.46811   & 101.90     &  99.08146 \\\\\n",
       "\t 2018-12-11 & 120.89     & 112.6542   & 108.59     & 106.41990  & 1051.75    & 1051.75    & 168.63     & 165.2930   & 1643.24    & ...        & 142.08     & 142.08     & 265.32     & 265.32     & 366.76     & 366.76     & 46.46      & 45.26352   & 101.56     &  98.75086 \\\\\n",
       "\t 2018-12-12 & 121.16     & 112.9058   & 109.08     & 106.90012  & 1063.68    & 1063.68    & 169.10     & 165.7537   & 1663.54    & ...        & 144.50     & 144.50     & 274.88     & 274.88     & 366.60     & 366.60     & 47.32      & 46.10138   & 103.34     & 100.48162 \\\\\n",
       "\t 2018-12-13 & 120.73     & 112.5051   & 109.45     & 107.26271  & 1061.90    & 1061.90    & 170.95     & 167.5671   & 1658.38    & ...        & 145.01     & 145.01     & 276.02     & 276.02     & 376.79     & 376.79     & 47.23      & 46.01369   & 103.46     & 100.59831 \\\\\n",
       "\t 2018-12-14 & 119.90     & 111.7316   & 106.03     & 103.91106  & 1042.10    & 1042.10    & 165.48     & 162.2054   & 1591.91    & ...        & 144.06     & 144.06     & 266.84     & 266.84     & 365.71     & 365.71     & 46.60      & 45.39992   & 100.99     &  98.19662 \\\\\n",
       "\t 2018-12-17 & 116.10     & 108.1905   & 102.89     & 100.83382  & 1016.53    & 1016.53    & 163.94     & 160.6959   & 1520.91    & ...        & 140.19     & 140.19     & 262.80     & 262.80     & 348.42     & 348.42     & 45.73      & 44.55232   &  99.62     &  96.86453 \\\\\n",
       "\t 2018-12-18 & 116.65     & 108.7031   & 103.97     & 101.89223  & 1028.71    & 1028.71    & 166.07     & 162.7837   & 1551.48    & ...        & 143.66     & 143.66     & 270.94     & 270.94     & 337.03     & 337.03     & 45.85      & 44.66923   & 100.08     &  97.31180 \\\\\n",
       "\t 2018-12-19 & 116.43     & 108.4980   & 103.69     & 101.61784  & 1023.01    & 1023.01    & 160.89     & 157.7062   & 1495.08    & ...        & 133.24     & 133.24     & 266.77     & 266.77     & 332.97     & 332.97     & 46.45      & 45.25378   & 100.11     &  97.34096 \\\\\n",
       "\t 2018-12-20 & 113.02     & 105.3203   & 101.51     &  99.48140  & 1009.41    & 1009.41    & 156.83     & 153.7265   & 1460.83    & ...        & 133.40     & 133.40     & 260.58     & 260.58     & 315.38     & 315.38     & 46.24      & 45.04919   & 100.10     &  97.33124 \\\\\n",
       "\t 2018-12-21 & 110.94     & 103.3821   &  98.23     &  96.26694  &  979.54    &  979.54    & 150.73     & 147.7473   & 1377.45    & ...        & 124.95     & 124.95     & 246.39     & 246.39     & 319.77     & 319.77     & 44.00      & 42.86688   &  96.14     &  93.48078 \\\\\n",
       "\t 2018-12-24 & 107.57     & 100.2416   &  94.13     &  92.24888  &  976.22    &  976.22    & 146.83     & 143.9245   & 1343.96    & ...        & 124.06     & 124.06     & 233.88     & 233.88     & 295.39     & 295.39     & 42.69      & 41.59061   &  95.00     &  92.37231 \\\\\n",
       "\t 2018-12-26 & 111.39     & 103.8014   & 100.56     &  98.55038  & 1039.46    & 1039.46    & 157.17     & 154.0598   & 1470.90    & ...        & 134.18     & 134.18     & 253.67     & 253.67     & 326.09     & 326.09     & 44.59      & 43.44168   &  98.38     &  95.65881 \\\\\n",
       "\t 2018-12-27 & 113.78     & 106.0286   & 101.18     &  99.15801  & 1043.88    & 1043.88    & 156.15     & 153.0600   & 1461.64    & ...        & 134.52     & 134.52     & 255.57     & 255.57     & 316.13     & 316.13     & 44.97      & 43.81189   &  98.99     &  96.25195 \\\\\n",
       "\t 2018-12-28 & 113.03     & 105.3297   & 100.39     &  98.38378  & 1037.08    & 1037.08    & 156.23     & 153.1384   & 1478.02    & ...        & 133.20     & 133.20     & 256.08     & 256.08     & 333.87     & 333.87     & 44.82      & 43.66575   &  99.20     &  96.45613 \\\\\n",
       "\\end{tabular}\n"
      ],
      "text/markdown": [
       "\n",
       "| Date | ibm_Close | ibm_Adj.Close | msft_Close | msft_Adj.Close | goog_Close | goog_Adj.Close | aapl_Close | aapl_Adj.Close | amzn_Close | ... | fb_Close | fb_Adj.Close | nflx_Close | nflx_Adj.Close | tsla_Close | tsla_Adj.Close | orcl_Close | orcl_Adj.Close | sap_Close | sap_Adj.Close |\n",
       "|---|---|---|---|---|---|---|---|---|---|---|---|---|---|---|---|---|---|---|---|---|\n",
       "| 2018-01-02 | 154.25     | 137.5211   | 85.95      | 82.79900   | 1065.00    | 1065.00    | 172.26     | 166.3537   | 1189.01    | ...        | 181.42     | 181.42     | 201.07     | 201.07     | 320.53     | 320.53     | 46.63      | 44.71024   | 112.39     | 107.63362  |\n",
       "| 2018-01-03 | 158.49     | 141.3013   | 86.35      | 83.18433   | 1082.48    | 1082.48    | 172.23     | 166.3247   | 1204.20    | ...        | 184.67     | 184.67     | 205.05     | 205.05     | 317.25     | 317.25     | 47.71      | 45.74577   | 113.31     | 108.51469  |\n",
       "| 2018-01-04 | 161.70     | 144.1631   | 87.11      | 83.91647   | 1086.40    | 1086.40    | 173.03     | 167.0973   | 1209.59    | ...        | 184.33     | 184.33     | 205.63     | 205.63     | 314.62     | 314.62     | 48.18      | 46.19643   | 115.05     | 110.18106  |\n",
       "| 2018-01-05 | 162.49     | 144.8675   | 88.19      | 84.95689   | 1102.23    | 1102.23    | 175.00     | 168.9997   | 1229.14    | ...        | 186.85     | 186.85     | 209.99     | 209.99     | 316.58     | 316.58     | 48.47      | 46.47449   | 116.33     | 111.40688  |\n",
       "| 2018-01-08 | 163.47     | 145.7412   | 88.28      | 85.04357   | 1106.94    | 1106.94    | 174.35     | 168.3720   | 1246.87    | ...        | 188.28     | 188.28     | 212.05     | 212.05     | 336.41     | 336.41     | 48.98      | 46.96349   | 114.80     | 109.94164  |\n",
       "| 2018-01-09 | 163.83     | 146.0621   | 88.22      | 84.98579   | 1106.26    | 1106.26    | 174.33     | 168.3527   | 1252.70    | ...        | 187.87     | 187.87     | 209.31     | 209.31     | 333.69     | 333.69     | 49.06      | 47.22339   | 114.16     | 109.32872  |\n",
       "| 2018-01-10 | 164.18     | 146.3742   | 87.82      | 84.60045   | 1102.61    | 1102.61    | 174.29     | 168.3141   | 1254.33    | ...        | 187.84     | 187.84     | 212.52     | 212.52     | 334.80     | 334.80     | 48.80      | 46.97311   | 112.87     | 108.09332  |\n",
       "| 2018-01-11 | 164.20     | 146.3920   | 88.08      | 84.85091   | 1105.52    | 1105.52    | 175.28     | 169.2702   | 1276.68    | ...        | 187.77     | 187.77     | 217.24     | 217.24     | 337.95     | 337.95     | 48.95      | 47.11750   | 109.64     | 105.00001  |\n",
       "| 2018-01-12 | 163.14     | 145.4470   | 89.60      | 86.31518   | 1122.26    | 1122.26    | 177.09     | 171.0181   | 1305.20    | ...        | 179.37     | 179.37     | 221.23     | 221.23     | 336.22     | 336.22     | 49.51      | 47.65653   | 110.13     | 105.46926  |\n",
       "| 2018-01-16 | 163.85     | 146.0800   | 88.35      | 85.11101   | 1121.76    | 1121.76    | 176.19     | 170.1490   | 1304.86    | ...        | 178.39     | 178.39     | 221.53     | 221.53     | 340.06     | 340.06     | 49.59      | 47.73354   | 110.68     | 105.99599  |\n",
       "| 2018-01-17 | 168.65     | 150.3594   | 90.14      | 86.83537   | 1131.98    | 1131.98    | 179.10     | 172.9592   | 1295.00    | ...        | 177.60     | 177.60     | 217.50     | 217.50     | 347.16     | 347.16     | 50.27      | 48.38808   | 111.19     | 106.48441  |\n",
       "| 2018-01-18 | 169.12     | 150.7784   | 90.10      | 86.79686   | 1129.79    | 1129.79    | 179.26     | 173.1137   | 1293.32    | ...        | 179.80     | 179.80     | 220.33     | 220.33     | 344.57     | 344.57     | 50.23      | 48.34958   | 111.67     | 106.94409  |\n",
       "| 2018-01-19 | 162.37     | 144.7605   | 90.00      | 86.70052   | 1137.51    | 1137.51    | 178.46     | 172.3411   | 1294.58    | ...        | 181.29     | 181.29     | 220.46     | 220.46     | 350.02     | 350.02     | 50.58      | 48.68648   | 113.20     | 108.40934  |\n",
       "| 2018-01-22 | 162.60     | 144.9655   | 91.61      | 88.25149   | 1155.81    | 1155.81    | 177.00     | 170.9312   | 1327.31    | ...        | 185.37     | 185.37     | 227.58     | 227.58     | 351.56     | 351.56     | 50.71      | 48.81161   | 112.78     | 108.00713  |\n",
       "| 2018-01-23 | 166.25     | 148.2197   | 91.90      | 88.53088   | 1169.97    | 1169.97    | 177.04     | 170.9698   | 1362.54    | ...        | 189.35     | 189.35     | 250.29     | 250.29     | 352.79     | 352.79     | 51.12      | 49.20626   | 114.27     | 109.43406  |\n",
       "| 2018-01-24 | 165.37     | 147.4351   | 91.82      | 88.45379   | 1164.24    | 1164.24    | 174.22     | 168.2465   | 1357.51    | ...        | 186.55     | 186.55     | 261.30     | 261.30     | 345.89     | 345.89     | 51.45      | 49.52391   | 114.37     | 109.52984  |\n",
       "| 2018-01-25 | 165.47     | 147.5243   | 92.33      | 88.94511   | 1170.37    | 1170.37    | 171.11     | 165.2431   | 1377.95    | ...        | 187.48     | 187.48     | 269.70     | 269.70     | 337.64     | 337.64     | 51.60      | 49.66829   | 112.84     | 108.06458  |\n",
       "| 2018-01-26 | 167.34     | 149.1915   | 94.06      | 90.61168   | 1175.84    | 1175.84    | 171.51     | 165.6294   | 1402.05    | ...        | 190.00     | 190.00     | 274.60     | 274.60     | 342.85     | 342.85     | 52.75      | 50.77524   | 114.54     | 109.69263  |\n",
       "| 2018-01-29 | 166.80     | 148.7100   | 93.92      | 90.47681   | 1175.58    | 1175.58    | 167.96     | 162.2011   | 1417.68    | ...        | 185.98     | 185.98     | 284.59     | 284.59     | 349.53     | 349.53     | 51.94      | 49.99556   | 113.54     | 108.73496  |\n",
       "| 2018-01-30 | 163.62     | 145.8749   | 92.74      | 89.34006   | 1163.69    | 1163.69    | 166.97     | 161.2451   | 1437.82    | ...        | 187.12     | 187.12     | 278.80     | 278.80     | 345.82     | 345.82     | 50.96      | 49.05225   | 110.81     | 106.12049  |\n",
       "| 2018-01-31 | 163.70     | 145.9463   | 95.01      | 91.52685   | 1169.94    | 1169.94    | 167.43     | 161.6893   | 1450.89    | ...        | 186.89     | 186.89     | 270.30     | 270.30     | 354.31     | 354.31     | 51.59      | 49.65866   | 113.25     | 108.45723  |\n",
       "| 2018-02-01 | 162.40     | 144.7872   | 94.26      | 90.80435   | 1167.70    | 1167.70    | 167.78     | 162.0273   | 1390.00    | ...        | 193.09     | 193.09     | 265.07     | 265.07     | 349.25     | 349.25     | 51.63      | 49.69717   | 111.65     | 106.92494  |\n",
       "| 2018-02-02 | 159.03     | 141.7827   | 91.78      | 88.41526   | 1111.90    | 1111.90    | 160.50     | 154.9969   | 1429.95    | ...        | 190.28     | 190.28     | 267.43     | 267.43     | 343.75     | 343.75     | 50.13      | 48.25333   | 109.15     | 104.53074  |\n",
       "| 2018-02-05 | 152.53     | 135.9877   | 88.00      | 84.77384   | 1055.80    | 1055.80    | 156.49     | 151.1244   | 1390.00    | ...        | 181.26     | 181.26     | 254.26     | 254.26     | 333.13     | 333.13     | 48.09      | 46.28969   | 105.87     | 101.38956  |\n",
       "| 2018-02-06 | 155.34     | 138.4929   | 91.33      | 87.98175   | 1080.60    | 1080.60    | 163.03     | 157.4402   | 1442.84    | ...        | 185.31     | 185.31     | 265.72     | 265.72     | 333.97     | 333.97     | 49.40      | 47.55065   | 108.36     | 103.77418  |\n",
       "| 2018-02-07 | 153.85     | 137.1645   | 89.61      | 86.32481   | 1048.58    | 1048.58    | 159.54     | 154.0698   | 1416.78    | ...        | 180.18     | 180.18     | 264.56     | 264.56     | 345.00     | 345.00     | 48.87      | 47.04050   | 105.09     | 100.64256  |\n",
       "| 2018-02-08 | 147.59     | 132.8790   | 85.01      | 81.89347   | 1001.52    | 1001.52    | 155.15     | 149.8304   | 1350.50    | ...        | 171.58     | 171.58     | 250.10     | 250.10     | 315.23     | 315.23     | 46.84      | 45.08649   | 101.66     |  97.35773  |\n",
       "| 2018-02-09 | 149.51     | 134.6076   | 88.18      | 84.94724   | 1037.78    | 1037.78    | 156.41     | 151.6630   | 1339.60    | ...        | 176.11     | 176.11     | 249.47     | 249.47     | 310.42     | 310.42     | 47.73      | 45.94317   | 101.99     |  97.67375  |\n",
       "| 2018-02-12 | 151.40     | 136.3092   | 89.13      | 85.86240   | 1051.94    | 1051.94    | 162.71     | 157.7718   | 1386.23    | ...        | 176.41     | 176.41     | 257.95     | 257.95     | 315.73     | 315.73     | 48.15      | 46.34745   | 102.75     |  98.40160  |\n",
       "| 2018-02-13 | 150.75     | 135.7240   | 89.83      | 86.53676   | 1052.10    | 1052.10    | 164.34     | 159.3523   | 1414.51    | ...        | 173.15     | 173.15     | 258.27     | 258.27     | 323.66     | 323.66     | 48.49      | 46.67472   | 102.80     |  98.44948  |\n",
       "| ... | ... | ... | ... | ... | ... | ... | ... | ... | ... |     | ... | ... | ... | ... | ... | ... | ... | ... | ... | ... |\n",
       "| 2018-11-14 | 120.20     | 112.0112   | 104.97     | 102.87225  | 1043.66    | 1043.66    | 186.80     | 183.1035   | 1599.01    | ...        | 144.22     | 144.22     | 286.73     | 286.73     | 344.00     | 344.00     | 48.84      | 47.58223   | 103.83     | 100.95808  |\n",
       "| 2018-11-15 | 121.44     | 113.1667   | 107.28     | 105.13609  | 1064.71    | 1064.71    | 191.41     | 187.6223   | 1619.44    | ...        | 143.85     | 143.85     | 290.06     | 290.06     | 348.44     | 348.44     | 50.63      | 49.32613   | 105.48     | 102.56244  |\n",
       "| 2018-11-16 | 121.57     | 113.2879   | 108.29     | 106.12591  | 1061.49    | 1061.49    | 193.53     | 189.7003   | 1593.41    | ...        | 139.53     | 139.53     | 286.21     | 286.21     | 354.31     | 354.31     | 51.17      | 49.85223   | 104.60     | 101.70677  |\n",
       "| 2018-11-19 | 120.31     | 112.1137   | 104.62     | 102.52925  | 1020.00    | 1020.00    | 185.86     | 182.1821   | 1512.29    | ...        | 131.55     | 131.55     | 270.60     | 270.60     | 353.47     | 353.47     | 49.55      | 48.27394   | 101.58     |  98.77031  |\n",
       "| 2018-11-20 | 117.20     | 109.2156   | 101.71     |  99.67741  | 1025.76    | 1025.76    | 176.98     | 173.4778   | 1495.46    | ...        | 132.43     | 132.43     | 266.98     | 266.98     | 347.49     | 347.49     | 48.33      | 47.08537   |  99.98     |  97.21457  |\n",
       "| 2018-11-21 | 118.57     | 110.4922   | 103.11     | 101.04942  | 1037.61    | 1037.61    | 176.78     | 173.2818   | 1516.73    | ...        | 134.82     | 134.82     | 262.13     | 262.13     | 338.19     | 338.19     | 48.62      | 47.36790   | 101.51     |  98.70225  |\n",
       "| 2018-11-23 | 117.19     | 109.2063   | 103.07     | 101.01022  | 1023.88    | 1023.88    | 172.29     | 168.8806   | 1502.06    | ...        | 131.73     | 131.73     | 258.82     | 258.82     | 325.83     | 325.83     | 48.70      | 47.44584   | 100.99     |  98.19662  |\n",
       "| 2018-11-26 | 119.56     | 111.4148   | 106.47     | 104.34228  | 1048.62    | 1048.62    | 174.62     | 171.1645   | 1581.33    | ...        | 136.38     | 136.38     | 261.43     | 261.43     | 346.00     | 346.00     | 48.26      | 47.01717   | 102.74     |  99.89822  |\n",
       "| 2018-11-27 | 120.03     | 111.8528   | 107.14     | 104.99889  | 1044.41    | 1044.41    | 174.24     | 170.7920   | 1581.42    | ...        | 135.00     | 135.00     | 266.63     | 266.63     | 343.92     | 343.92     | 47.44      | 46.21829   | 101.86     |  99.04256  |\n",
       "| 2018-11-28 | 123.00     | 114.6204   | 111.12     | 108.89935  | 1086.23    | 1086.23    | 180.94     | 177.3595   | 1677.75    | ...        | 136.76     | 136.76     | 282.65     | 282.65     | 347.87     | 347.87     | 48.19      | 46.94897   | 104.91     | 102.00821  |\n",
       "| 2018-11-29 | 121.48     | 113.2040   | 110.19     | 107.98794  | 1088.30    | 1088.30    | 179.55     | 175.9969   | 1673.57    | ...        | 138.68     | 138.68     | 288.75     | 288.75     | 341.17     | 341.17     | 47.90      | 46.66644   | 103.99     | 101.11364  |\n",
       "| 2018-11-30 | 124.27     | 115.8039   | 110.89     | 108.67395  | 1094.43    | 1094.43    | 178.58     | 175.0462   | 1690.17    | ...        | 140.61     | 140.61     | 286.13     | 286.13     | 350.48     | 350.48     | 48.76      | 47.50429   | 103.68     | 100.81222  |\n",
       "| 2018-12-03 | 125.31     | 116.7731   | 112.09     | 109.84996  | 1106.43    | 1106.43    | 184.82     | 181.1627   | 1772.36    | ...        | 141.09     | 141.09     | 290.30     | 290.30     | 358.49     | 358.49     | 49.83      | 48.54674   | 105.29     | 102.37769  |\n",
       "| 2018-12-04 | 121.60     | 113.3158   | 108.52     | 106.35129  | 1050.82    | 1050.82    | 176.69     | 173.1935   | 1668.40    | ...        | 137.93     | 137.93     | 275.33     | 275.33     | 359.70     | 359.70     | 48.75      | 47.49455   | 102.91     | 100.06352  |\n",
       "| 2018-12-06 | 123.91     | 115.4685   | 109.19     | 107.00793  | 1068.73    | 1068.73    | 174.72     | 171.2625   | 1699.19    | ...        | 139.63     | 139.63     | 282.88     | 282.88     | 363.06     | 363.06     | 46.68      | 45.47786   | 101.51     |  98.70225  |\n",
       "| 2018-12-07 | 119.34     | 111.2098   | 104.82     | 102.72525  | 1036.58    | 1036.58    | 168.49     | 165.1558   | 1629.13    | ...        | 137.42     | 137.42     | 265.14     | 265.14     | 357.97     | 357.97     | 46.00      | 44.81537   | 100.72     |  97.93410  |\n",
       "| 2018-12-10 | 121.13     | 112.8778   | 107.59     | 105.43988  | 1039.55    | 1039.55    | 169.60     | 166.2439   | 1641.03    | ...        | 141.85     | 141.85     | 269.70     | 269.70     | 365.15     | 365.15     | 46.67      | 45.46811   | 101.90     |  99.08146  |\n",
       "| 2018-12-11 | 120.89     | 112.6542   | 108.59     | 106.41990  | 1051.75    | 1051.75    | 168.63     | 165.2930   | 1643.24    | ...        | 142.08     | 142.08     | 265.32     | 265.32     | 366.76     | 366.76     | 46.46      | 45.26352   | 101.56     |  98.75086  |\n",
       "| 2018-12-12 | 121.16     | 112.9058   | 109.08     | 106.90012  | 1063.68    | 1063.68    | 169.10     | 165.7537   | 1663.54    | ...        | 144.50     | 144.50     | 274.88     | 274.88     | 366.60     | 366.60     | 47.32      | 46.10138   | 103.34     | 100.48162  |\n",
       "| 2018-12-13 | 120.73     | 112.5051   | 109.45     | 107.26271  | 1061.90    | 1061.90    | 170.95     | 167.5671   | 1658.38    | ...        | 145.01     | 145.01     | 276.02     | 276.02     | 376.79     | 376.79     | 47.23      | 46.01369   | 103.46     | 100.59831  |\n",
       "| 2018-12-14 | 119.90     | 111.7316   | 106.03     | 103.91106  | 1042.10    | 1042.10    | 165.48     | 162.2054   | 1591.91    | ...        | 144.06     | 144.06     | 266.84     | 266.84     | 365.71     | 365.71     | 46.60      | 45.39992   | 100.99     |  98.19662  |\n",
       "| 2018-12-17 | 116.10     | 108.1905   | 102.89     | 100.83382  | 1016.53    | 1016.53    | 163.94     | 160.6959   | 1520.91    | ...        | 140.19     | 140.19     | 262.80     | 262.80     | 348.42     | 348.42     | 45.73      | 44.55232   |  99.62     |  96.86453  |\n",
       "| 2018-12-18 | 116.65     | 108.7031   | 103.97     | 101.89223  | 1028.71    | 1028.71    | 166.07     | 162.7837   | 1551.48    | ...        | 143.66     | 143.66     | 270.94     | 270.94     | 337.03     | 337.03     | 45.85      | 44.66923   | 100.08     |  97.31180  |\n",
       "| 2018-12-19 | 116.43     | 108.4980   | 103.69     | 101.61784  | 1023.01    | 1023.01    | 160.89     | 157.7062   | 1495.08    | ...        | 133.24     | 133.24     | 266.77     | 266.77     | 332.97     | 332.97     | 46.45      | 45.25378   | 100.11     |  97.34096  |\n",
       "| 2018-12-20 | 113.02     | 105.3203   | 101.51     |  99.48140  | 1009.41    | 1009.41    | 156.83     | 153.7265   | 1460.83    | ...        | 133.40     | 133.40     | 260.58     | 260.58     | 315.38     | 315.38     | 46.24      | 45.04919   | 100.10     |  97.33124  |\n",
       "| 2018-12-21 | 110.94     | 103.3821   |  98.23     |  96.26694  |  979.54    |  979.54    | 150.73     | 147.7473   | 1377.45    | ...        | 124.95     | 124.95     | 246.39     | 246.39     | 319.77     | 319.77     | 44.00      | 42.86688   |  96.14     |  93.48078  |\n",
       "| 2018-12-24 | 107.57     | 100.2416   |  94.13     |  92.24888  |  976.22    |  976.22    | 146.83     | 143.9245   | 1343.96    | ...        | 124.06     | 124.06     | 233.88     | 233.88     | 295.39     | 295.39     | 42.69      | 41.59061   |  95.00     |  92.37231  |\n",
       "| 2018-12-26 | 111.39     | 103.8014   | 100.56     |  98.55038  | 1039.46    | 1039.46    | 157.17     | 154.0598   | 1470.90    | ...        | 134.18     | 134.18     | 253.67     | 253.67     | 326.09     | 326.09     | 44.59      | 43.44168   |  98.38     |  95.65881  |\n",
       "| 2018-12-27 | 113.78     | 106.0286   | 101.18     |  99.15801  | 1043.88    | 1043.88    | 156.15     | 153.0600   | 1461.64    | ...        | 134.52     | 134.52     | 255.57     | 255.57     | 316.13     | 316.13     | 44.97      | 43.81189   |  98.99     |  96.25195  |\n",
       "| 2018-12-28 | 113.03     | 105.3297   | 100.39     |  98.38378  | 1037.08    | 1037.08    | 156.23     | 153.1384   | 1478.02    | ...        | 133.20     | 133.20     | 256.08     | 256.08     | 333.87     | 333.87     | 44.82      | 43.66575   |  99.20     |  96.45613  |\n",
       "\n"
      ],
      "text/plain": [
       "    Date       ibm_Close ibm_Adj.Close msft_Close msft_Adj.Close goog_Close\n",
       "1   2018-01-02 154.25    137.5211      85.95      82.79900       1065.00   \n",
       "2   2018-01-03 158.49    141.3013      86.35      83.18433       1082.48   \n",
       "3   2018-01-04 161.70    144.1631      87.11      83.91647       1086.40   \n",
       "4   2018-01-05 162.49    144.8675      88.19      84.95689       1102.23   \n",
       "5   2018-01-08 163.47    145.7412      88.28      85.04357       1106.94   \n",
       "6   2018-01-09 163.83    146.0621      88.22      84.98579       1106.26   \n",
       "7   2018-01-10 164.18    146.3742      87.82      84.60045       1102.61   \n",
       "8   2018-01-11 164.20    146.3920      88.08      84.85091       1105.52   \n",
       "9   2018-01-12 163.14    145.4470      89.60      86.31518       1122.26   \n",
       "10  2018-01-16 163.85    146.0800      88.35      85.11101       1121.76   \n",
       "11  2018-01-17 168.65    150.3594      90.14      86.83537       1131.98   \n",
       "12  2018-01-18 169.12    150.7784      90.10      86.79686       1129.79   \n",
       "13  2018-01-19 162.37    144.7605      90.00      86.70052       1137.51   \n",
       "14  2018-01-22 162.60    144.9655      91.61      88.25149       1155.81   \n",
       "15  2018-01-23 166.25    148.2197      91.90      88.53088       1169.97   \n",
       "16  2018-01-24 165.37    147.4351      91.82      88.45379       1164.24   \n",
       "17  2018-01-25 165.47    147.5243      92.33      88.94511       1170.37   \n",
       "18  2018-01-26 167.34    149.1915      94.06      90.61168       1175.84   \n",
       "19  2018-01-29 166.80    148.7100      93.92      90.47681       1175.58   \n",
       "20  2018-01-30 163.62    145.8749      92.74      89.34006       1163.69   \n",
       "21  2018-01-31 163.70    145.9463      95.01      91.52685       1169.94   \n",
       "22  2018-02-01 162.40    144.7872      94.26      90.80435       1167.70   \n",
       "23  2018-02-02 159.03    141.7827      91.78      88.41526       1111.90   \n",
       "24  2018-02-05 152.53    135.9877      88.00      84.77384       1055.80   \n",
       "25  2018-02-06 155.34    138.4929      91.33      87.98175       1080.60   \n",
       "26  2018-02-07 153.85    137.1645      89.61      86.32481       1048.58   \n",
       "27  2018-02-08 147.59    132.8790      85.01      81.89347       1001.52   \n",
       "28  2018-02-09 149.51    134.6076      88.18      84.94724       1037.78   \n",
       "29  2018-02-12 151.40    136.3092      89.13      85.86240       1051.94   \n",
       "30  2018-02-13 150.75    135.7240      89.83      86.53676       1052.10   \n",
       "... ...        ...       ...           ...        ...            ...       \n",
       "221 2018-11-14 120.20    112.0112      104.97     102.87225      1043.66   \n",
       "222 2018-11-15 121.44    113.1667      107.28     105.13609      1064.71   \n",
       "223 2018-11-16 121.57    113.2879      108.29     106.12591      1061.49   \n",
       "224 2018-11-19 120.31    112.1137      104.62     102.52925      1020.00   \n",
       "225 2018-11-20 117.20    109.2156      101.71      99.67741      1025.76   \n",
       "226 2018-11-21 118.57    110.4922      103.11     101.04942      1037.61   \n",
       "227 2018-11-23 117.19    109.2063      103.07     101.01022      1023.88   \n",
       "228 2018-11-26 119.56    111.4148      106.47     104.34228      1048.62   \n",
       "229 2018-11-27 120.03    111.8528      107.14     104.99889      1044.41   \n",
       "230 2018-11-28 123.00    114.6204      111.12     108.89935      1086.23   \n",
       "231 2018-11-29 121.48    113.2040      110.19     107.98794      1088.30   \n",
       "232 2018-11-30 124.27    115.8039      110.89     108.67395      1094.43   \n",
       "233 2018-12-03 125.31    116.7731      112.09     109.84996      1106.43   \n",
       "234 2018-12-04 121.60    113.3158      108.52     106.35129      1050.82   \n",
       "235 2018-12-06 123.91    115.4685      109.19     107.00793      1068.73   \n",
       "236 2018-12-07 119.34    111.2098      104.82     102.72525      1036.58   \n",
       "237 2018-12-10 121.13    112.8778      107.59     105.43988      1039.55   \n",
       "238 2018-12-11 120.89    112.6542      108.59     106.41990      1051.75   \n",
       "239 2018-12-12 121.16    112.9058      109.08     106.90012      1063.68   \n",
       "240 2018-12-13 120.73    112.5051      109.45     107.26271      1061.90   \n",
       "241 2018-12-14 119.90    111.7316      106.03     103.91106      1042.10   \n",
       "242 2018-12-17 116.10    108.1905      102.89     100.83382      1016.53   \n",
       "243 2018-12-18 116.65    108.7031      103.97     101.89223      1028.71   \n",
       "244 2018-12-19 116.43    108.4980      103.69     101.61784      1023.01   \n",
       "245 2018-12-20 113.02    105.3203      101.51      99.48140      1009.41   \n",
       "246 2018-12-21 110.94    103.3821       98.23      96.26694       979.54   \n",
       "247 2018-12-24 107.57    100.2416       94.13      92.24888       976.22   \n",
       "248 2018-12-26 111.39    103.8014      100.56      98.55038      1039.46   \n",
       "249 2018-12-27 113.78    106.0286      101.18      99.15801      1043.88   \n",
       "250 2018-12-28 113.03    105.3297      100.39      98.38378      1037.08   \n",
       "    goog_Adj.Close aapl_Close aapl_Adj.Close amzn_Close ... fb_Close\n",
       "1   1065.00        172.26     166.3537       1189.01    ... 181.42  \n",
       "2   1082.48        172.23     166.3247       1204.20    ... 184.67  \n",
       "3   1086.40        173.03     167.0973       1209.59    ... 184.33  \n",
       "4   1102.23        175.00     168.9997       1229.14    ... 186.85  \n",
       "5   1106.94        174.35     168.3720       1246.87    ... 188.28  \n",
       "6   1106.26        174.33     168.3527       1252.70    ... 187.87  \n",
       "7   1102.61        174.29     168.3141       1254.33    ... 187.84  \n",
       "8   1105.52        175.28     169.2702       1276.68    ... 187.77  \n",
       "9   1122.26        177.09     171.0181       1305.20    ... 179.37  \n",
       "10  1121.76        176.19     170.1490       1304.86    ... 178.39  \n",
       "11  1131.98        179.10     172.9592       1295.00    ... 177.60  \n",
       "12  1129.79        179.26     173.1137       1293.32    ... 179.80  \n",
       "13  1137.51        178.46     172.3411       1294.58    ... 181.29  \n",
       "14  1155.81        177.00     170.9312       1327.31    ... 185.37  \n",
       "15  1169.97        177.04     170.9698       1362.54    ... 189.35  \n",
       "16  1164.24        174.22     168.2465       1357.51    ... 186.55  \n",
       "17  1170.37        171.11     165.2431       1377.95    ... 187.48  \n",
       "18  1175.84        171.51     165.6294       1402.05    ... 190.00  \n",
       "19  1175.58        167.96     162.2011       1417.68    ... 185.98  \n",
       "20  1163.69        166.97     161.2451       1437.82    ... 187.12  \n",
       "21  1169.94        167.43     161.6893       1450.89    ... 186.89  \n",
       "22  1167.70        167.78     162.0273       1390.00    ... 193.09  \n",
       "23  1111.90        160.50     154.9969       1429.95    ... 190.28  \n",
       "24  1055.80        156.49     151.1244       1390.00    ... 181.26  \n",
       "25  1080.60        163.03     157.4402       1442.84    ... 185.31  \n",
       "26  1048.58        159.54     154.0698       1416.78    ... 180.18  \n",
       "27  1001.52        155.15     149.8304       1350.50    ... 171.58  \n",
       "28  1037.78        156.41     151.6630       1339.60    ... 176.11  \n",
       "29  1051.94        162.71     157.7718       1386.23    ... 176.41  \n",
       "30  1052.10        164.34     159.3523       1414.51    ... 173.15  \n",
       "... ...            ...        ...            ...            ...     \n",
       "221 1043.66        186.80     183.1035       1599.01    ... 144.22  \n",
       "222 1064.71        191.41     187.6223       1619.44    ... 143.85  \n",
       "223 1061.49        193.53     189.7003       1593.41    ... 139.53  \n",
       "224 1020.00        185.86     182.1821       1512.29    ... 131.55  \n",
       "225 1025.76        176.98     173.4778       1495.46    ... 132.43  \n",
       "226 1037.61        176.78     173.2818       1516.73    ... 134.82  \n",
       "227 1023.88        172.29     168.8806       1502.06    ... 131.73  \n",
       "228 1048.62        174.62     171.1645       1581.33    ... 136.38  \n",
       "229 1044.41        174.24     170.7920       1581.42    ... 135.00  \n",
       "230 1086.23        180.94     177.3595       1677.75    ... 136.76  \n",
       "231 1088.30        179.55     175.9969       1673.57    ... 138.68  \n",
       "232 1094.43        178.58     175.0462       1690.17    ... 140.61  \n",
       "233 1106.43        184.82     181.1627       1772.36    ... 141.09  \n",
       "234 1050.82        176.69     173.1935       1668.40    ... 137.93  \n",
       "235 1068.73        174.72     171.2625       1699.19    ... 139.63  \n",
       "236 1036.58        168.49     165.1558       1629.13    ... 137.42  \n",
       "237 1039.55        169.60     166.2439       1641.03    ... 141.85  \n",
       "238 1051.75        168.63     165.2930       1643.24    ... 142.08  \n",
       "239 1063.68        169.10     165.7537       1663.54    ... 144.50  \n",
       "240 1061.90        170.95     167.5671       1658.38    ... 145.01  \n",
       "241 1042.10        165.48     162.2054       1591.91    ... 144.06  \n",
       "242 1016.53        163.94     160.6959       1520.91    ... 140.19  \n",
       "243 1028.71        166.07     162.7837       1551.48    ... 143.66  \n",
       "244 1023.01        160.89     157.7062       1495.08    ... 133.24  \n",
       "245 1009.41        156.83     153.7265       1460.83    ... 133.40  \n",
       "246  979.54        150.73     147.7473       1377.45    ... 124.95  \n",
       "247  976.22        146.83     143.9245       1343.96    ... 124.06  \n",
       "248 1039.46        157.17     154.0598       1470.90    ... 134.18  \n",
       "249 1043.88        156.15     153.0600       1461.64    ... 134.52  \n",
       "250 1037.08        156.23     153.1384       1478.02    ... 133.20  \n",
       "    fb_Adj.Close nflx_Close nflx_Adj.Close tsla_Close tsla_Adj.Close orcl_Close\n",
       "1   181.42       201.07     201.07         320.53     320.53         46.63     \n",
       "2   184.67       205.05     205.05         317.25     317.25         47.71     \n",
       "3   184.33       205.63     205.63         314.62     314.62         48.18     \n",
       "4   186.85       209.99     209.99         316.58     316.58         48.47     \n",
       "5   188.28       212.05     212.05         336.41     336.41         48.98     \n",
       "6   187.87       209.31     209.31         333.69     333.69         49.06     \n",
       "7   187.84       212.52     212.52         334.80     334.80         48.80     \n",
       "8   187.77       217.24     217.24         337.95     337.95         48.95     \n",
       "9   179.37       221.23     221.23         336.22     336.22         49.51     \n",
       "10  178.39       221.53     221.53         340.06     340.06         49.59     \n",
       "11  177.60       217.50     217.50         347.16     347.16         50.27     \n",
       "12  179.80       220.33     220.33         344.57     344.57         50.23     \n",
       "13  181.29       220.46     220.46         350.02     350.02         50.58     \n",
       "14  185.37       227.58     227.58         351.56     351.56         50.71     \n",
       "15  189.35       250.29     250.29         352.79     352.79         51.12     \n",
       "16  186.55       261.30     261.30         345.89     345.89         51.45     \n",
       "17  187.48       269.70     269.70         337.64     337.64         51.60     \n",
       "18  190.00       274.60     274.60         342.85     342.85         52.75     \n",
       "19  185.98       284.59     284.59         349.53     349.53         51.94     \n",
       "20  187.12       278.80     278.80         345.82     345.82         50.96     \n",
       "21  186.89       270.30     270.30         354.31     354.31         51.59     \n",
       "22  193.09       265.07     265.07         349.25     349.25         51.63     \n",
       "23  190.28       267.43     267.43         343.75     343.75         50.13     \n",
       "24  181.26       254.26     254.26         333.13     333.13         48.09     \n",
       "25  185.31       265.72     265.72         333.97     333.97         49.40     \n",
       "26  180.18       264.56     264.56         345.00     345.00         48.87     \n",
       "27  171.58       250.10     250.10         315.23     315.23         46.84     \n",
       "28  176.11       249.47     249.47         310.42     310.42         47.73     \n",
       "29  176.41       257.95     257.95         315.73     315.73         48.15     \n",
       "30  173.15       258.27     258.27         323.66     323.66         48.49     \n",
       "... ...          ...        ...            ...        ...            ...       \n",
       "221 144.22       286.73     286.73         344.00     344.00         48.84     \n",
       "222 143.85       290.06     290.06         348.44     348.44         50.63     \n",
       "223 139.53       286.21     286.21         354.31     354.31         51.17     \n",
       "224 131.55       270.60     270.60         353.47     353.47         49.55     \n",
       "225 132.43       266.98     266.98         347.49     347.49         48.33     \n",
       "226 134.82       262.13     262.13         338.19     338.19         48.62     \n",
       "227 131.73       258.82     258.82         325.83     325.83         48.70     \n",
       "228 136.38       261.43     261.43         346.00     346.00         48.26     \n",
       "229 135.00       266.63     266.63         343.92     343.92         47.44     \n",
       "230 136.76       282.65     282.65         347.87     347.87         48.19     \n",
       "231 138.68       288.75     288.75         341.17     341.17         47.90     \n",
       "232 140.61       286.13     286.13         350.48     350.48         48.76     \n",
       "233 141.09       290.30     290.30         358.49     358.49         49.83     \n",
       "234 137.93       275.33     275.33         359.70     359.70         48.75     \n",
       "235 139.63       282.88     282.88         363.06     363.06         46.68     \n",
       "236 137.42       265.14     265.14         357.97     357.97         46.00     \n",
       "237 141.85       269.70     269.70         365.15     365.15         46.67     \n",
       "238 142.08       265.32     265.32         366.76     366.76         46.46     \n",
       "239 144.50       274.88     274.88         366.60     366.60         47.32     \n",
       "240 145.01       276.02     276.02         376.79     376.79         47.23     \n",
       "241 144.06       266.84     266.84         365.71     365.71         46.60     \n",
       "242 140.19       262.80     262.80         348.42     348.42         45.73     \n",
       "243 143.66       270.94     270.94         337.03     337.03         45.85     \n",
       "244 133.24       266.77     266.77         332.97     332.97         46.45     \n",
       "245 133.40       260.58     260.58         315.38     315.38         46.24     \n",
       "246 124.95       246.39     246.39         319.77     319.77         44.00     \n",
       "247 124.06       233.88     233.88         295.39     295.39         42.69     \n",
       "248 134.18       253.67     253.67         326.09     326.09         44.59     \n",
       "249 134.52       255.57     255.57         316.13     316.13         44.97     \n",
       "250 133.20       256.08     256.08         333.87     333.87         44.82     \n",
       "    orcl_Adj.Close sap_Close sap_Adj.Close\n",
       "1   44.71024       112.39    107.63362    \n",
       "2   45.74577       113.31    108.51469    \n",
       "3   46.19643       115.05    110.18106    \n",
       "4   46.47449       116.33    111.40688    \n",
       "5   46.96349       114.80    109.94164    \n",
       "6   47.22339       114.16    109.32872    \n",
       "7   46.97311       112.87    108.09332    \n",
       "8   47.11750       109.64    105.00001    \n",
       "9   47.65653       110.13    105.46926    \n",
       "10  47.73354       110.68    105.99599    \n",
       "11  48.38808       111.19    106.48441    \n",
       "12  48.34958       111.67    106.94409    \n",
       "13  48.68648       113.20    108.40934    \n",
       "14  48.81161       112.78    108.00713    \n",
       "15  49.20626       114.27    109.43406    \n",
       "16  49.52391       114.37    109.52984    \n",
       "17  49.66829       112.84    108.06458    \n",
       "18  50.77524       114.54    109.69263    \n",
       "19  49.99556       113.54    108.73496    \n",
       "20  49.05225       110.81    106.12049    \n",
       "21  49.65866       113.25    108.45723    \n",
       "22  49.69717       111.65    106.92494    \n",
       "23  48.25333       109.15    104.53074    \n",
       "24  46.28969       105.87    101.38956    \n",
       "25  47.55065       108.36    103.77418    \n",
       "26  47.04050       105.09    100.64256    \n",
       "27  45.08649       101.66     97.35773    \n",
       "28  45.94317       101.99     97.67375    \n",
       "29  46.34745       102.75     98.40160    \n",
       "30  46.67472       102.80     98.44948    \n",
       "... ...            ...       ...          \n",
       "221 47.58223       103.83    100.95808    \n",
       "222 49.32613       105.48    102.56244    \n",
       "223 49.85223       104.60    101.70677    \n",
       "224 48.27394       101.58     98.77031    \n",
       "225 47.08537        99.98     97.21457    \n",
       "226 47.36790       101.51     98.70225    \n",
       "227 47.44584       100.99     98.19662    \n",
       "228 47.01717       102.74     99.89822    \n",
       "229 46.21829       101.86     99.04256    \n",
       "230 46.94897       104.91    102.00821    \n",
       "231 46.66644       103.99    101.11364    \n",
       "232 47.50429       103.68    100.81222    \n",
       "233 48.54674       105.29    102.37769    \n",
       "234 47.49455       102.91    100.06352    \n",
       "235 45.47786       101.51     98.70225    \n",
       "236 44.81537       100.72     97.93410    \n",
       "237 45.46811       101.90     99.08146    \n",
       "238 45.26352       101.56     98.75086    \n",
       "239 46.10138       103.34    100.48162    \n",
       "240 46.01369       103.46    100.59831    \n",
       "241 45.39992       100.99     98.19662    \n",
       "242 44.55232        99.62     96.86453    \n",
       "243 44.66923       100.08     97.31180    \n",
       "244 45.25378       100.11     97.34096    \n",
       "245 45.04919       100.10     97.33124    \n",
       "246 42.86688        96.14     93.48078    \n",
       "247 41.59061        95.00     92.37231    \n",
       "248 43.44168        98.38     95.65881    \n",
       "249 43.81189        98.99     96.25195    \n",
       "250 43.66575        99.20     96.45613    "
      ]
     },
     "metadata": {},
     "output_type": "display_data"
    }
   ],
   "source": [
    "# merge(ibmTrimmed,msftTrimmed,googTrimmed,aaplTrimmed,amznTrimmed,fbTrimmed,nflxTrimmed,tslaTrimmed,orclTrimmed,sapTrimmed)\n",
    "universe = cbind(ibmData['Date'],ibmTrimmed,msftTrimmed,googTrimmed,aaplTrimmed,amznTrimmed,fbTrimmed,nflxTrimmed,tslaTrimmed,orclTrimmed,sapTrimmed)\n",
    "universe\n",
    "\n"
   ]
  }
 ],
 "metadata": {
  "kernelspec": {
   "display_name": "R",
   "language": "R",
   "name": "ir"
  },
  "language_info": {
   "codemirror_mode": "r",
   "file_extension": ".r",
   "mimetype": "text/x-r-source",
   "name": "R",
   "pygments_lexer": "r",
   "version": "3.6.1"
  }
 },
 "nbformat": 4,
 "nbformat_minor": 4
}
